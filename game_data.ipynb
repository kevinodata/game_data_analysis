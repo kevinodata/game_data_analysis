{
 "cells": [
  {
   "cell_type": "markdown",
   "metadata": {},
   "source": [
    "# Game Data Analysis"
   ]
  },
  {
   "cell_type": "markdown",
   "metadata": {},
   "source": [
    "In this project, we will use a dataframe with historical data on game sales to identify patterns that determine whether a game will succeed or not. This study will allow us to identify bigger titles ahead of time and help to plan our ad campaigns (using company money the smart way). After we analyze the data for trends, we will apply some hypothesis testing to verify our conclusions."
   ]
  },
  {
   "cell_type": "code",
   "execution_count": 1,
   "metadata": {},
   "outputs": [
    {
     "name": "stdout",
     "output_type": "stream",
     "text": [
      "<class 'pandas.core.frame.DataFrame'>\n",
      "RangeIndex: 16715 entries, 0 to 16714\n",
      "Data columns (total 11 columns):\n",
      "Name               16713 non-null object\n",
      "Platform           16715 non-null object\n",
      "Year_of_Release    16446 non-null float64\n",
      "Genre              16713 non-null object\n",
      "NA_sales           16715 non-null float64\n",
      "EU_sales           16715 non-null float64\n",
      "JP_sales           16715 non-null float64\n",
      "Other_sales        16715 non-null float64\n",
      "Critic_Score       8137 non-null float64\n",
      "User_Score         10014 non-null object\n",
      "Rating             9949 non-null object\n",
      "dtypes: float64(6), object(5)\n",
      "memory usage: 1.4+ MB\n"
     ]
    },
    {
     "data": {
      "text/plain": [
       "None"
      ]
     },
     "metadata": {},
     "output_type": "display_data"
    },
    {
     "data": {
      "text/html": [
       "<div>\n",
       "<style scoped>\n",
       "    .dataframe tbody tr th:only-of-type {\n",
       "        vertical-align: middle;\n",
       "    }\n",
       "\n",
       "    .dataframe tbody tr th {\n",
       "        vertical-align: top;\n",
       "    }\n",
       "\n",
       "    .dataframe thead th {\n",
       "        text-align: right;\n",
       "    }\n",
       "</style>\n",
       "<table border=\"1\" class=\"dataframe\">\n",
       "  <thead>\n",
       "    <tr style=\"text-align: right;\">\n",
       "      <th></th>\n",
       "      <th>Name</th>\n",
       "      <th>Platform</th>\n",
       "      <th>Year_of_Release</th>\n",
       "      <th>Genre</th>\n",
       "      <th>NA_sales</th>\n",
       "      <th>EU_sales</th>\n",
       "      <th>JP_sales</th>\n",
       "      <th>Other_sales</th>\n",
       "      <th>Critic_Score</th>\n",
       "      <th>User_Score</th>\n",
       "      <th>Rating</th>\n",
       "    </tr>\n",
       "  </thead>\n",
       "  <tbody>\n",
       "    <tr>\n",
       "      <td>0</td>\n",
       "      <td>Wii Sports</td>\n",
       "      <td>Wii</td>\n",
       "      <td>2006.0</td>\n",
       "      <td>Sports</td>\n",
       "      <td>41.36</td>\n",
       "      <td>28.96</td>\n",
       "      <td>3.77</td>\n",
       "      <td>8.45</td>\n",
       "      <td>76.0</td>\n",
       "      <td>8</td>\n",
       "      <td>E</td>\n",
       "    </tr>\n",
       "    <tr>\n",
       "      <td>1</td>\n",
       "      <td>Super Mario Bros.</td>\n",
       "      <td>NES</td>\n",
       "      <td>1985.0</td>\n",
       "      <td>Platform</td>\n",
       "      <td>29.08</td>\n",
       "      <td>3.58</td>\n",
       "      <td>6.81</td>\n",
       "      <td>0.77</td>\n",
       "      <td>NaN</td>\n",
       "      <td>NaN</td>\n",
       "      <td>NaN</td>\n",
       "    </tr>\n",
       "    <tr>\n",
       "      <td>2</td>\n",
       "      <td>Mario Kart Wii</td>\n",
       "      <td>Wii</td>\n",
       "      <td>2008.0</td>\n",
       "      <td>Racing</td>\n",
       "      <td>15.68</td>\n",
       "      <td>12.76</td>\n",
       "      <td>3.79</td>\n",
       "      <td>3.29</td>\n",
       "      <td>82.0</td>\n",
       "      <td>8.3</td>\n",
       "      <td>E</td>\n",
       "    </tr>\n",
       "    <tr>\n",
       "      <td>3</td>\n",
       "      <td>Wii Sports Resort</td>\n",
       "      <td>Wii</td>\n",
       "      <td>2009.0</td>\n",
       "      <td>Sports</td>\n",
       "      <td>15.61</td>\n",
       "      <td>10.93</td>\n",
       "      <td>3.28</td>\n",
       "      <td>2.95</td>\n",
       "      <td>80.0</td>\n",
       "      <td>8</td>\n",
       "      <td>E</td>\n",
       "    </tr>\n",
       "    <tr>\n",
       "      <td>4</td>\n",
       "      <td>Pokemon Red/Pokemon Blue</td>\n",
       "      <td>GB</td>\n",
       "      <td>1996.0</td>\n",
       "      <td>Role-Playing</td>\n",
       "      <td>11.27</td>\n",
       "      <td>8.89</td>\n",
       "      <td>10.22</td>\n",
       "      <td>1.00</td>\n",
       "      <td>NaN</td>\n",
       "      <td>NaN</td>\n",
       "      <td>NaN</td>\n",
       "    </tr>\n",
       "    <tr>\n",
       "      <td>5</td>\n",
       "      <td>Tetris</td>\n",
       "      <td>GB</td>\n",
       "      <td>1989.0</td>\n",
       "      <td>Puzzle</td>\n",
       "      <td>23.20</td>\n",
       "      <td>2.26</td>\n",
       "      <td>4.22</td>\n",
       "      <td>0.58</td>\n",
       "      <td>NaN</td>\n",
       "      <td>NaN</td>\n",
       "      <td>NaN</td>\n",
       "    </tr>\n",
       "    <tr>\n",
       "      <td>6</td>\n",
       "      <td>New Super Mario Bros.</td>\n",
       "      <td>DS</td>\n",
       "      <td>2006.0</td>\n",
       "      <td>Platform</td>\n",
       "      <td>11.28</td>\n",
       "      <td>9.14</td>\n",
       "      <td>6.50</td>\n",
       "      <td>2.88</td>\n",
       "      <td>89.0</td>\n",
       "      <td>8.5</td>\n",
       "      <td>E</td>\n",
       "    </tr>\n",
       "    <tr>\n",
       "      <td>7</td>\n",
       "      <td>Wii Play</td>\n",
       "      <td>Wii</td>\n",
       "      <td>2006.0</td>\n",
       "      <td>Misc</td>\n",
       "      <td>13.96</td>\n",
       "      <td>9.18</td>\n",
       "      <td>2.93</td>\n",
       "      <td>2.84</td>\n",
       "      <td>58.0</td>\n",
       "      <td>6.6</td>\n",
       "      <td>E</td>\n",
       "    </tr>\n",
       "    <tr>\n",
       "      <td>8</td>\n",
       "      <td>New Super Mario Bros. Wii</td>\n",
       "      <td>Wii</td>\n",
       "      <td>2009.0</td>\n",
       "      <td>Platform</td>\n",
       "      <td>14.44</td>\n",
       "      <td>6.94</td>\n",
       "      <td>4.70</td>\n",
       "      <td>2.24</td>\n",
       "      <td>87.0</td>\n",
       "      <td>8.4</td>\n",
       "      <td>E</td>\n",
       "    </tr>\n",
       "    <tr>\n",
       "      <td>9</td>\n",
       "      <td>Duck Hunt</td>\n",
       "      <td>NES</td>\n",
       "      <td>1984.0</td>\n",
       "      <td>Shooter</td>\n",
       "      <td>26.93</td>\n",
       "      <td>0.63</td>\n",
       "      <td>0.28</td>\n",
       "      <td>0.47</td>\n",
       "      <td>NaN</td>\n",
       "      <td>NaN</td>\n",
       "      <td>NaN</td>\n",
       "    </tr>\n",
       "  </tbody>\n",
       "</table>\n",
       "</div>"
      ],
      "text/plain": [
       "                        Name Platform  Year_of_Release         Genre  \\\n",
       "0                 Wii Sports      Wii           2006.0        Sports   \n",
       "1          Super Mario Bros.      NES           1985.0      Platform   \n",
       "2             Mario Kart Wii      Wii           2008.0        Racing   \n",
       "3          Wii Sports Resort      Wii           2009.0        Sports   \n",
       "4   Pokemon Red/Pokemon Blue       GB           1996.0  Role-Playing   \n",
       "5                     Tetris       GB           1989.0        Puzzle   \n",
       "6      New Super Mario Bros.       DS           2006.0      Platform   \n",
       "7                   Wii Play      Wii           2006.0          Misc   \n",
       "8  New Super Mario Bros. Wii      Wii           2009.0      Platform   \n",
       "9                  Duck Hunt      NES           1984.0       Shooter   \n",
       "\n",
       "   NA_sales  EU_sales  JP_sales  Other_sales  Critic_Score User_Score Rating  \n",
       "0     41.36     28.96      3.77         8.45          76.0          8      E  \n",
       "1     29.08      3.58      6.81         0.77           NaN        NaN    NaN  \n",
       "2     15.68     12.76      3.79         3.29          82.0        8.3      E  \n",
       "3     15.61     10.93      3.28         2.95          80.0          8      E  \n",
       "4     11.27      8.89     10.22         1.00           NaN        NaN    NaN  \n",
       "5     23.20      2.26      4.22         0.58           NaN        NaN    NaN  \n",
       "6     11.28      9.14      6.50         2.88          89.0        8.5      E  \n",
       "7     13.96      9.18      2.93         2.84          58.0        6.6      E  \n",
       "8     14.44      6.94      4.70         2.24          87.0        8.4      E  \n",
       "9     26.93      0.63      0.28         0.47           NaN        NaN    NaN  "
      ]
     },
     "execution_count": 1,
     "metadata": {},
     "output_type": "execute_result"
    }
   ],
   "source": [
    "import pandas as pd\n",
    "\n",
    "game_data = pd.read_csv('/datasets/games.csv')\n",
    "display(game_data.info())\n",
    "game_data.head(10)"
   ]
  },
  {
   "cell_type": "markdown",
   "metadata": {},
   "source": [
    "This dataframe contains 11 features:\n",
    "- Name: The name of the game\n",
    "- Platform: The console that the game was released on\n",
    "- Year_of_Release\n",
    "- Genre: The game genre\n",
    "- NA_sales in USD million\n",
    "- EU_sales in USD million\n",
    "- JP_sales in USD million\n",
    "- Other_sales in USD million\n",
    "- Critic_Score: The overall critics score of the game out of 100\n",
    "- User_Score: The overall user score of the game out of 10\n",
    "- Rating: The ESRB game rating\n",
    "\n",
    "<br>\n",
    "Of these 11, six are float columns, and the other five are objects (strings). It appears as if there are some missing values, and certainly some column type conversions we will need to perform. Now that we've gotten a look at the data, we are ready to begin wrangling it."
   ]
  },
  {
   "cell_type": "markdown",
   "metadata": {},
   "source": [
    "## Data Wrangling"
   ]
  },
  {
   "cell_type": "markdown",
   "metadata": {},
   "source": [
    "First things first, I want to adjust the column names to lowercase."
   ]
  },
  {
   "cell_type": "code",
   "execution_count": 2,
   "metadata": {},
   "outputs": [],
   "source": [
    "game_data.rename(columns={\n",
    "    'Name':'name',\n",
    "    'Platform':'platform',\n",
    "    'Year_of_Release':'year_of_release',\n",
    "    'Genre':'genre',\n",
    "    'NA_sales':'na_sales',\n",
    "    'EU_sales':'eu_sales',\n",
    "    'JP_sales':'jp_sales',\n",
    "    'Other_sales':'other_sales',\n",
    "    'Critic_Score':'critic_score',\n",
    "    'User_Score':'user_score',\n",
    "    'Rating':'rating'\n",
    "}, inplace=True);"
   ]
  },
  {
   "cell_type": "markdown",
   "metadata": {},
   "source": [
    "Now that we've renamed the columns into something easier to work with (we don't want to accidentally miss a capital!) we can dig deeper into this for missing values and duplicate rows. From the .info method above, we can already see some features with missing values."
   ]
  },
  {
   "cell_type": "markdown",
   "metadata": {},
   "source": [
    "### Missing Values"
   ]
  },
  {
   "cell_type": "code",
   "execution_count": 3,
   "metadata": {},
   "outputs": [
    {
     "name": "stdout",
     "output_type": "stream",
     "text": [
      "This dataframe has 11 columns.\n",
      "There are 6 columns that have missing values.\n"
     ]
    },
    {
     "data": {
      "text/html": [
       "<div>\n",
       "<style scoped>\n",
       "    .dataframe tbody tr th:only-of-type {\n",
       "        vertical-align: middle;\n",
       "    }\n",
       "\n",
       "    .dataframe tbody tr th {\n",
       "        vertical-align: top;\n",
       "    }\n",
       "\n",
       "    .dataframe thead th {\n",
       "        text-align: right;\n",
       "    }\n",
       "</style>\n",
       "<table border=\"1\" class=\"dataframe\">\n",
       "  <thead>\n",
       "    <tr style=\"text-align: right;\">\n",
       "      <th></th>\n",
       "      <th>Missing Values</th>\n",
       "      <th>% of Total Values</th>\n",
       "    </tr>\n",
       "  </thead>\n",
       "  <tbody>\n",
       "    <tr>\n",
       "      <td>critic_score</td>\n",
       "      <td>8578</td>\n",
       "      <td>51.32</td>\n",
       "    </tr>\n",
       "    <tr>\n",
       "      <td>rating</td>\n",
       "      <td>6766</td>\n",
       "      <td>40.48</td>\n",
       "    </tr>\n",
       "    <tr>\n",
       "      <td>user_score</td>\n",
       "      <td>6701</td>\n",
       "      <td>40.09</td>\n",
       "    </tr>\n",
       "    <tr>\n",
       "      <td>year_of_release</td>\n",
       "      <td>269</td>\n",
       "      <td>1.61</td>\n",
       "    </tr>\n",
       "    <tr>\n",
       "      <td>name</td>\n",
       "      <td>2</td>\n",
       "      <td>0.01</td>\n",
       "    </tr>\n",
       "    <tr>\n",
       "      <td>genre</td>\n",
       "      <td>2</td>\n",
       "      <td>0.01</td>\n",
       "    </tr>\n",
       "  </tbody>\n",
       "</table>\n",
       "</div>"
      ],
      "text/plain": [
       "                 Missing Values  % of Total Values\n",
       "critic_score               8578              51.32\n",
       "rating                     6766              40.48\n",
       "user_score                 6701              40.09\n",
       "year_of_release             269               1.61\n",
       "name                          2               0.01\n",
       "genre                         2               0.01"
      ]
     },
     "execution_count": 3,
     "metadata": {},
     "output_type": "execute_result"
    }
   ],
   "source": [
    "def missing_values_table(df):\n",
    "    \"\"\"\n",
    "    Calculates the total number of missing values and the percentage missing for each column in a dataframe.\n",
    "    \"\"\"\n",
    "    mis_val = df.isnull().sum()\n",
    "    mis_val_percent = 100 * df.isnull().sum() / len(df)\n",
    "    mis_val_table = pd.concat([mis_val, mis_val_percent], axis=1)\n",
    "    mis_val_table_ren_columns = mis_val_table.rename(\n",
    "    columns = {0 : 'Missing Values', 1 : '% of Total Values'})\n",
    "    mis_val_table_ren_columns = mis_val_table_ren_columns[\n",
    "        mis_val_table_ren_columns.iloc[:,1] != 0].sort_values('% of Total Values', ascending=False).round(2)\n",
    "    print (\"This dataframe has \" + str(df.shape[1]) + \" columns.\\n\"      \n",
    "        \"There are \" + str(mis_val_table_ren_columns.shape[0]) + \" columns that have missing values.\")\n",
    "    return mis_val_table_ren_columns\n",
    "\n",
    "missing_values_table(game_data)"
   ]
  },
  {
   "cell_type": "markdown",
   "metadata": {},
   "source": [
    "Ok, looks like we have two missing values in the 'name' and 'genre' column, 269 or roughly 1.6 percent of the data missing in year_of_release, and a substantial number of missing values in the critic/user score and ESRB rating columns. Due to the significantly small number of missing values in name, year, and genre, we are best off removing those from the dataframe. We will need to look deeper into the missing scores and ratings, so let's get rid of the other missing values before continuing."
   ]
  },
  {
   "cell_type": "code",
   "execution_count": 4,
   "metadata": {},
   "outputs": [
    {
     "name": "stdout",
     "output_type": "stream",
     "text": [
      "This dataframe has 11 columns.\n",
      "There are 3 columns that have missing values.\n"
     ]
    },
    {
     "data": {
      "text/html": [
       "<div>\n",
       "<style scoped>\n",
       "    .dataframe tbody tr th:only-of-type {\n",
       "        vertical-align: middle;\n",
       "    }\n",
       "\n",
       "    .dataframe tbody tr th {\n",
       "        vertical-align: top;\n",
       "    }\n",
       "\n",
       "    .dataframe thead th {\n",
       "        text-align: right;\n",
       "    }\n",
       "</style>\n",
       "<table border=\"1\" class=\"dataframe\">\n",
       "  <thead>\n",
       "    <tr style=\"text-align: right;\">\n",
       "      <th></th>\n",
       "      <th>Missing Values</th>\n",
       "      <th>% of Total Values</th>\n",
       "    </tr>\n",
       "  </thead>\n",
       "  <tbody>\n",
       "    <tr>\n",
       "      <td>critic_score</td>\n",
       "      <td>8461</td>\n",
       "      <td>51.45</td>\n",
       "    </tr>\n",
       "    <tr>\n",
       "      <td>rating</td>\n",
       "      <td>6676</td>\n",
       "      <td>40.60</td>\n",
       "    </tr>\n",
       "    <tr>\n",
       "      <td>user_score</td>\n",
       "      <td>6605</td>\n",
       "      <td>40.17</td>\n",
       "    </tr>\n",
       "  </tbody>\n",
       "</table>\n",
       "</div>"
      ],
      "text/plain": [
       "              Missing Values  % of Total Values\n",
       "critic_score            8461              51.45\n",
       "rating                  6676              40.60\n",
       "user_score              6605              40.17"
      ]
     },
     "execution_count": 4,
     "metadata": {},
     "output_type": "execute_result"
    }
   ],
   "source": [
    "game_data = game_data.dropna(subset=['name', 'year_of_release', 'genre'])\n",
    "\n",
    "# verify\n",
    "missing_values_table(game_data)"
   ]
  },
  {
   "cell_type": "markdown",
   "metadata": {},
   "source": [
    "Great - we dropped the nulls from our three columns and also seemed to remove some nulls from the score/rating columns. Now we need to dig into the missing scores and ratings. My first thought is that these missing values may be due to the age of the game. Research shows that ESRB ratings began in 1994 - so it would make sense for any game released earlier than that to not have an ESRB rating. I'm thinking that user and critic scores may not have been as much of a thing for earlier games as well. Game consoles were expensive and perhaps not as popular as they are now - where gaming is accessible to anyone with internet access and surrounded by popular media, e-sports, and convention crowds. Let's examine to see if this assumption is correct."
   ]
  },
  {
   "cell_type": "code",
   "execution_count": 5,
   "metadata": {},
   "outputs": [
    {
     "data": {
      "text/html": [
       "<div>\n",
       "<style scoped>\n",
       "    .dataframe tbody tr th:only-of-type {\n",
       "        vertical-align: middle;\n",
       "    }\n",
       "\n",
       "    .dataframe tbody tr th {\n",
       "        vertical-align: top;\n",
       "    }\n",
       "\n",
       "    .dataframe thead th {\n",
       "        text-align: right;\n",
       "    }\n",
       "</style>\n",
       "<table border=\"1\" class=\"dataframe\">\n",
       "  <thead>\n",
       "    <tr style=\"text-align: right;\">\n",
       "      <th></th>\n",
       "      <th>critic_score</th>\n",
       "      <th>rating</th>\n",
       "      <th>user_score</th>\n",
       "    </tr>\n",
       "    <tr>\n",
       "      <th>year_of_release</th>\n",
       "      <th></th>\n",
       "      <th></th>\n",
       "      <th></th>\n",
       "    </tr>\n",
       "  </thead>\n",
       "  <tbody>\n",
       "    <tr>\n",
       "      <td>1980.0</td>\n",
       "      <td>9.0</td>\n",
       "      <td>9</td>\n",
       "      <td>9</td>\n",
       "    </tr>\n",
       "    <tr>\n",
       "      <td>1981.0</td>\n",
       "      <td>46.0</td>\n",
       "      <td>46</td>\n",
       "      <td>46</td>\n",
       "    </tr>\n",
       "    <tr>\n",
       "      <td>1982.0</td>\n",
       "      <td>36.0</td>\n",
       "      <td>36</td>\n",
       "      <td>36</td>\n",
       "    </tr>\n",
       "    <tr>\n",
       "      <td>1983.0</td>\n",
       "      <td>17.0</td>\n",
       "      <td>17</td>\n",
       "      <td>17</td>\n",
       "    </tr>\n",
       "    <tr>\n",
       "      <td>1984.0</td>\n",
       "      <td>14.0</td>\n",
       "      <td>14</td>\n",
       "      <td>14</td>\n",
       "    </tr>\n",
       "    <tr>\n",
       "      <td>1985.0</td>\n",
       "      <td>13.0</td>\n",
       "      <td>13</td>\n",
       "      <td>13</td>\n",
       "    </tr>\n",
       "    <tr>\n",
       "      <td>1986.0</td>\n",
       "      <td>21.0</td>\n",
       "      <td>21</td>\n",
       "      <td>21</td>\n",
       "    </tr>\n",
       "    <tr>\n",
       "      <td>1987.0</td>\n",
       "      <td>16.0</td>\n",
       "      <td>16</td>\n",
       "      <td>16</td>\n",
       "    </tr>\n",
       "    <tr>\n",
       "      <td>1988.0</td>\n",
       "      <td>14.0</td>\n",
       "      <td>14</td>\n",
       "      <td>14</td>\n",
       "    </tr>\n",
       "    <tr>\n",
       "      <td>1989.0</td>\n",
       "      <td>17.0</td>\n",
       "      <td>17</td>\n",
       "      <td>17</td>\n",
       "    </tr>\n",
       "    <tr>\n",
       "      <td>1990.0</td>\n",
       "      <td>16.0</td>\n",
       "      <td>16</td>\n",
       "      <td>16</td>\n",
       "    </tr>\n",
       "    <tr>\n",
       "      <td>1991.0</td>\n",
       "      <td>41.0</td>\n",
       "      <td>41</td>\n",
       "      <td>41</td>\n",
       "    </tr>\n",
       "    <tr>\n",
       "      <td>1992.0</td>\n",
       "      <td>42.0</td>\n",
       "      <td>41</td>\n",
       "      <td>42</td>\n",
       "    </tr>\n",
       "    <tr>\n",
       "      <td>1993.0</td>\n",
       "      <td>60.0</td>\n",
       "      <td>60</td>\n",
       "      <td>60</td>\n",
       "    </tr>\n",
       "    <tr>\n",
       "      <td>1994.0</td>\n",
       "      <td>120.0</td>\n",
       "      <td>120</td>\n",
       "      <td>120</td>\n",
       "    </tr>\n",
       "    <tr>\n",
       "      <td>1995.0</td>\n",
       "      <td>219.0</td>\n",
       "      <td>219</td>\n",
       "      <td>219</td>\n",
       "    </tr>\n",
       "    <tr>\n",
       "      <td>1996.0</td>\n",
       "      <td>255.0</td>\n",
       "      <td>256</td>\n",
       "      <td>255</td>\n",
       "    </tr>\n",
       "    <tr>\n",
       "      <td>1997.0</td>\n",
       "      <td>272.0</td>\n",
       "      <td>270</td>\n",
       "      <td>270</td>\n",
       "    </tr>\n",
       "    <tr>\n",
       "      <td>1998.0</td>\n",
       "      <td>351.0</td>\n",
       "      <td>347</td>\n",
       "      <td>348</td>\n",
       "    </tr>\n",
       "    <tr>\n",
       "      <td>1999.0</td>\n",
       "      <td>299.0</td>\n",
       "      <td>296</td>\n",
       "      <td>299</td>\n",
       "    </tr>\n",
       "    <tr>\n",
       "      <td>2000.0</td>\n",
       "      <td>207.0</td>\n",
       "      <td>202</td>\n",
       "      <td>200</td>\n",
       "    </tr>\n",
       "    <tr>\n",
       "      <td>2001.0</td>\n",
       "      <td>156.0</td>\n",
       "      <td>143</td>\n",
       "      <td>143</td>\n",
       "    </tr>\n",
       "    <tr>\n",
       "      <td>2002.0</td>\n",
       "      <td>202.0</td>\n",
       "      <td>174</td>\n",
       "      <td>173</td>\n",
       "    </tr>\n",
       "    <tr>\n",
       "      <td>2003.0</td>\n",
       "      <td>190.0</td>\n",
       "      <td>162</td>\n",
       "      <td>164</td>\n",
       "    </tr>\n",
       "    <tr>\n",
       "      <td>2004.0</td>\n",
       "      <td>201.0</td>\n",
       "      <td>164</td>\n",
       "      <td>166</td>\n",
       "    </tr>\n",
       "    <tr>\n",
       "      <td>2005.0</td>\n",
       "      <td>284.0</td>\n",
       "      <td>233</td>\n",
       "      <td>235</td>\n",
       "    </tr>\n",
       "    <tr>\n",
       "      <td>2006.0</td>\n",
       "      <td>386.0</td>\n",
       "      <td>328</td>\n",
       "      <td>330</td>\n",
       "    </tr>\n",
       "    <tr>\n",
       "      <td>2007.0</td>\n",
       "      <td>505.0</td>\n",
       "      <td>376</td>\n",
       "      <td>376</td>\n",
       "    </tr>\n",
       "    <tr>\n",
       "      <td>2008.0</td>\n",
       "      <td>712.0</td>\n",
       "      <td>446</td>\n",
       "      <td>440</td>\n",
       "    </tr>\n",
       "    <tr>\n",
       "      <td>2009.0</td>\n",
       "      <td>775.0</td>\n",
       "      <td>415</td>\n",
       "      <td>407</td>\n",
       "    </tr>\n",
       "    <tr>\n",
       "      <td>2010.0</td>\n",
       "      <td>755.0</td>\n",
       "      <td>456</td>\n",
       "      <td>457</td>\n",
       "    </tr>\n",
       "    <tr>\n",
       "      <td>2011.0</td>\n",
       "      <td>636.0</td>\n",
       "      <td>433</td>\n",
       "      <td>418</td>\n",
       "    </tr>\n",
       "    <tr>\n",
       "      <td>2012.0</td>\n",
       "      <td>332.0</td>\n",
       "      <td>298</td>\n",
       "      <td>290</td>\n",
       "    </tr>\n",
       "    <tr>\n",
       "      <td>2013.0</td>\n",
       "      <td>271.0</td>\n",
       "      <td>228</td>\n",
       "      <td>225</td>\n",
       "    </tr>\n",
       "    <tr>\n",
       "      <td>2014.0</td>\n",
       "      <td>320.0</td>\n",
       "      <td>236</td>\n",
       "      <td>231</td>\n",
       "    </tr>\n",
       "    <tr>\n",
       "      <td>2015.0</td>\n",
       "      <td>381.0</td>\n",
       "      <td>291</td>\n",
       "      <td>271</td>\n",
       "    </tr>\n",
       "    <tr>\n",
       "      <td>2016.0</td>\n",
       "      <td>270.0</td>\n",
       "      <td>222</td>\n",
       "      <td>206</td>\n",
       "    </tr>\n",
       "  </tbody>\n",
       "</table>\n",
       "</div>"
      ],
      "text/plain": [
       "                 critic_score  rating  user_score\n",
       "year_of_release                                  \n",
       "1980.0                    9.0       9           9\n",
       "1981.0                   46.0      46          46\n",
       "1982.0                   36.0      36          36\n",
       "1983.0                   17.0      17          17\n",
       "1984.0                   14.0      14          14\n",
       "1985.0                   13.0      13          13\n",
       "1986.0                   21.0      21          21\n",
       "1987.0                   16.0      16          16\n",
       "1988.0                   14.0      14          14\n",
       "1989.0                   17.0      17          17\n",
       "1990.0                   16.0      16          16\n",
       "1991.0                   41.0      41          41\n",
       "1992.0                   42.0      41          42\n",
       "1993.0                   60.0      60          60\n",
       "1994.0                  120.0     120         120\n",
       "1995.0                  219.0     219         219\n",
       "1996.0                  255.0     256         255\n",
       "1997.0                  272.0     270         270\n",
       "1998.0                  351.0     347         348\n",
       "1999.0                  299.0     296         299\n",
       "2000.0                  207.0     202         200\n",
       "2001.0                  156.0     143         143\n",
       "2002.0                  202.0     174         173\n",
       "2003.0                  190.0     162         164\n",
       "2004.0                  201.0     164         166\n",
       "2005.0                  284.0     233         235\n",
       "2006.0                  386.0     328         330\n",
       "2007.0                  505.0     376         376\n",
       "2008.0                  712.0     446         440\n",
       "2009.0                  775.0     415         407\n",
       "2010.0                  755.0     456         457\n",
       "2011.0                  636.0     433         418\n",
       "2012.0                  332.0     298         290\n",
       "2013.0                  271.0     228         225\n",
       "2014.0                  320.0     236         231\n",
       "2015.0                  381.0     291         271\n",
       "2016.0                  270.0     222         206"
      ]
     },
     "execution_count": 5,
     "metadata": {},
     "output_type": "execute_result"
    }
   ],
   "source": [
    "pd.pivot_table(\n",
    "    game_data,\n",
    "    index='year_of_release',\n",
    "    values=['critic_score', 'user_score', 'rating'],\n",
    "    aggfunc=lambda x: x.isnull().sum()\n",
    ")"
   ]
  },
  {
   "cell_type": "markdown",
   "metadata": {},
   "source": [
    "This assumption appears to be very incorrect. There are certainly some missing scores and ratings prior to 1994, but the amount of missing values increases substantially, reaching a peak in 2009/2010 with 775 missing critic scores, 457 missing user scores, and 456 missing ESRB ratings! The advent of the rating system has no impact on these missing scores. The only pattern we can see above is that when one value is missing (score or rating) the other two are also most likely missing. Perhaps these games were indie and/or relatively unpopular. I would suspect that an indie game (independently developed) may not have an ESRB rating as the ratings are not mandatory. An indie game may not receive many public reviews, and may therefore be lacking in \"scores\" to average into the two score columns. Either this, or simply an incomplete data set. Because the reason for these missing values is unclear, and the amount of missing values is too large to remove, it may be best to simply fill these null values with zeros or \"unknown\" for the rating."
   ]
  },
  {
   "cell_type": "code",
   "execution_count": 6,
   "metadata": {},
   "outputs": [
    {
     "name": "stdout",
     "output_type": "stream",
     "text": [
      "This dataframe has 11 columns.\n",
      "There are 0 columns that have missing values.\n"
     ]
    },
    {
     "data": {
      "text/html": [
       "<div>\n",
       "<style scoped>\n",
       "    .dataframe tbody tr th:only-of-type {\n",
       "        vertical-align: middle;\n",
       "    }\n",
       "\n",
       "    .dataframe tbody tr th {\n",
       "        vertical-align: top;\n",
       "    }\n",
       "\n",
       "    .dataframe thead th {\n",
       "        text-align: right;\n",
       "    }\n",
       "</style>\n",
       "<table border=\"1\" class=\"dataframe\">\n",
       "  <thead>\n",
       "    <tr style=\"text-align: right;\">\n",
       "      <th></th>\n",
       "      <th>Missing Values</th>\n",
       "      <th>% of Total Values</th>\n",
       "    </tr>\n",
       "  </thead>\n",
       "  <tbody>\n",
       "  </tbody>\n",
       "</table>\n",
       "</div>"
      ],
      "text/plain": [
       "Empty DataFrame\n",
       "Columns: [Missing Values, % of Total Values]\n",
       "Index: []"
      ]
     },
     "execution_count": 6,
     "metadata": {},
     "output_type": "execute_result"
    }
   ],
   "source": [
    "game_data.fillna({'critic_score' : 0,\n",
    "                  'user_score' : 0,\n",
    "                  'rating' : 'unknown'},\n",
    "                  inplace=True)\n",
    "\n",
    "# verify\n",
    "missing_values_table(game_data)"
   ]
  },
  {
   "cell_type": "markdown",
   "metadata": {},
   "source": [
    "Excellent - now our missing values are taken care of. It's time to fix our data types and check for any duplicate rows."
   ]
  },
  {
   "cell_type": "markdown",
   "metadata": {},
   "source": [
    "### Duplicates and Data Type Conversions"
   ]
  },
  {
   "cell_type": "code",
   "execution_count": 7,
   "metadata": {},
   "outputs": [
    {
     "data": {
      "text/plain": [
       "0"
      ]
     },
     "execution_count": 7,
     "metadata": {},
     "output_type": "execute_result"
    }
   ],
   "source": [
    "game_data.duplicated().sum()"
   ]
  },
  {
   "cell_type": "markdown",
   "metadata": {},
   "source": [
    "No duplicates!"
   ]
  },
  {
   "cell_type": "code",
   "execution_count": 8,
   "metadata": {},
   "outputs": [
    {
     "data": {
      "text/plain": [
       "array(['8', 0, '8.3', '8.5', '6.6', '8.4', '8.6', '7.7', '6.3', '7.4',\n",
       "       '8.2', '9', '7.9', '8.1', '8.7', '7.1', '3.4', '5.3', '4.8', '3.2',\n",
       "       '8.9', '6.4', '7.8', '7.5', '2.6', '7.2', '9.2', '7', '7.3', '4.3',\n",
       "       '7.6', '5.7', '5', '9.1', '6.5', 'tbd', '8.8', '6.9', '9.4', '6.8',\n",
       "       '6.1', '6.7', '5.4', '4', '4.9', '4.5', '9.3', '6.2', '4.2', '6',\n",
       "       '3.7', '4.1', '5.8', '5.6', '5.5', '4.4', '4.6', '5.9', '3.9',\n",
       "       '3.1', '2.9', '5.2', '3.3', '4.7', '5.1', '3.5', '2.5', '1.9', '3',\n",
       "       '2.7', '2.2', '2', '9.5', '2.1', '3.6', '2.8', '1.8', '3.8', '0',\n",
       "       '1.6', '9.6', '2.4', '1.7', '1.1', '0.3', '1.5', '0.7', '1.2',\n",
       "       '2.3', '0.5', '1.3', '0.2', '0.6', '1.4', '0.9', '1', '9.7'],\n",
       "      dtype=object)"
      ]
     },
     "execution_count": 8,
     "metadata": {},
     "output_type": "execute_result"
    }
   ],
   "source": [
    "# user score is object column - why?\n",
    "game_data['user_score'].unique()"
   ]
  },
  {
   "cell_type": "markdown",
   "metadata": {},
   "source": [
    "Ahh - it appears as though there is a non-numerical user_score: TBD (to be determined). I imagine this is for games that were very new or not released at the time of this dataframe's creation. Since the game technically has no user score, it may not be entirely incorrect to set it to zero. Let's look and see how many TBDs we are dealing with."
   ]
  },
  {
   "cell_type": "code",
   "execution_count": 9,
   "metadata": {},
   "outputs": [
    {
     "data": {
      "text/plain": [
       "name               2376\n",
       "platform           2376\n",
       "year_of_release    2376\n",
       "genre              2376\n",
       "na_sales           2376\n",
       "eu_sales           2376\n",
       "jp_sales           2376\n",
       "other_sales        2376\n",
       "critic_score       2376\n",
       "user_score         2376\n",
       "rating             2376\n",
       "dtype: int64"
      ]
     },
     "metadata": {},
     "output_type": "display_data"
    },
    {
     "data": {
      "text/plain": [
       "name               14.449039\n",
       "platform           14.449039\n",
       "year_of_release    14.449039\n",
       "genre              14.449039\n",
       "na_sales           14.449039\n",
       "eu_sales           14.449039\n",
       "jp_sales           14.449039\n",
       "other_sales        14.449039\n",
       "critic_score       14.449039\n",
       "user_score         14.449039\n",
       "rating             14.449039\n",
       "dtype: float64"
      ]
     },
     "execution_count": 9,
     "metadata": {},
     "output_type": "execute_result"
    }
   ],
   "source": [
    "display(game_data.query('user_score == \"tbd\"').count())\n",
    "game_data.query('user_score == \"tbd\"').count() / len(game_data) * 100"
   ]
  },
  {
   "cell_type": "code",
   "execution_count": 10,
   "metadata": {},
   "outputs": [
    {
     "data": {
      "text/html": [
       "<div>\n",
       "<style scoped>\n",
       "    .dataframe tbody tr th:only-of-type {\n",
       "        vertical-align: middle;\n",
       "    }\n",
       "\n",
       "    .dataframe tbody tr th {\n",
       "        vertical-align: top;\n",
       "    }\n",
       "\n",
       "    .dataframe thead th {\n",
       "        text-align: right;\n",
       "    }\n",
       "</style>\n",
       "<table border=\"1\" class=\"dataframe\">\n",
       "  <thead>\n",
       "    <tr style=\"text-align: right;\">\n",
       "      <th></th>\n",
       "      <th>user_score</th>\n",
       "    </tr>\n",
       "    <tr>\n",
       "      <th>year_of_release</th>\n",
       "      <th></th>\n",
       "    </tr>\n",
       "  </thead>\n",
       "  <tbody>\n",
       "    <tr>\n",
       "      <td>1997.0</td>\n",
       "      <td>1</td>\n",
       "    </tr>\n",
       "    <tr>\n",
       "      <td>1999.0</td>\n",
       "      <td>8</td>\n",
       "    </tr>\n",
       "    <tr>\n",
       "      <td>2000.0</td>\n",
       "      <td>43</td>\n",
       "    </tr>\n",
       "    <tr>\n",
       "      <td>2001.0</td>\n",
       "      <td>82</td>\n",
       "    </tr>\n",
       "    <tr>\n",
       "      <td>2002.0</td>\n",
       "      <td>192</td>\n",
       "    </tr>\n",
       "    <tr>\n",
       "      <td>2003.0</td>\n",
       "      <td>95</td>\n",
       "    </tr>\n",
       "    <tr>\n",
       "      <td>2004.0</td>\n",
       "      <td>107</td>\n",
       "    </tr>\n",
       "    <tr>\n",
       "      <td>2005.0</td>\n",
       "      <td>121</td>\n",
       "    </tr>\n",
       "    <tr>\n",
       "      <td>2006.0</td>\n",
       "      <td>124</td>\n",
       "    </tr>\n",
       "    <tr>\n",
       "      <td>2007.0</td>\n",
       "      <td>192</td>\n",
       "    </tr>\n",
       "    <tr>\n",
       "      <td>2008.0</td>\n",
       "      <td>326</td>\n",
       "    </tr>\n",
       "    <tr>\n",
       "      <td>2009.0</td>\n",
       "      <td>405</td>\n",
       "    </tr>\n",
       "    <tr>\n",
       "      <td>2010.0</td>\n",
       "      <td>331</td>\n",
       "    </tr>\n",
       "    <tr>\n",
       "      <td>2011.0</td>\n",
       "      <td>217</td>\n",
       "    </tr>\n",
       "    <tr>\n",
       "      <td>2012.0</td>\n",
       "      <td>24</td>\n",
       "    </tr>\n",
       "    <tr>\n",
       "      <td>2013.0</td>\n",
       "      <td>15</td>\n",
       "    </tr>\n",
       "    <tr>\n",
       "      <td>2014.0</td>\n",
       "      <td>21</td>\n",
       "    </tr>\n",
       "    <tr>\n",
       "      <td>2015.0</td>\n",
       "      <td>38</td>\n",
       "    </tr>\n",
       "    <tr>\n",
       "      <td>2016.0</td>\n",
       "      <td>34</td>\n",
       "    </tr>\n",
       "  </tbody>\n",
       "</table>\n",
       "</div>"
      ],
      "text/plain": [
       "                 user_score\n",
       "year_of_release            \n",
       "1997.0                    1\n",
       "1999.0                    8\n",
       "2000.0                   43\n",
       "2001.0                   82\n",
       "2002.0                  192\n",
       "2003.0                   95\n",
       "2004.0                  107\n",
       "2005.0                  121\n",
       "2006.0                  124\n",
       "2007.0                  192\n",
       "2008.0                  326\n",
       "2009.0                  405\n",
       "2010.0                  331\n",
       "2011.0                  217\n",
       "2012.0                   24\n",
       "2013.0                   15\n",
       "2014.0                   21\n",
       "2015.0                   38\n",
       "2016.0                   34"
      ]
     },
     "execution_count": 10,
     "metadata": {},
     "output_type": "execute_result"
    }
   ],
   "source": [
    "tbd_scores = game_data.query('user_score == \"tbd\"')\n",
    "pd.pivot_table(\n",
    "    tbd_scores,\n",
    "    index='year_of_release',\n",
    "    values='user_score',\n",
    "    aggfunc='count'\n",
    ")"
   ]
  },
  {
   "cell_type": "markdown",
   "metadata": {},
   "source": [
    "There are certainly a lot of TBD user_scores, and they are certainly not all for recent games. They appear to peak in 2009, oddly enough also when we have the most missing data. Given the amount and spread of this value, it is questionable for us to replace it with 0. With that said, I think this is the best way for us to deal with it given the circumstances. Were I able to communicate directly with the data aggregator, I could make a more informed decision. Let's replace our TBD with 0 and finish converting our data types."
   ]
  },
  {
   "cell_type": "code",
   "execution_count": 11,
   "metadata": {},
   "outputs": [],
   "source": [
    "game_data['user_score'].replace('tbd', 0, inplace=True)"
   ]
  },
  {
   "cell_type": "code",
   "execution_count": 12,
   "metadata": {},
   "outputs": [
    {
     "name": "stdout",
     "output_type": "stream",
     "text": [
      "<class 'pandas.core.frame.DataFrame'>\n",
      "Int64Index: 16444 entries, 0 to 16714\n",
      "Data columns (total 11 columns):\n",
      "name               16444 non-null object\n",
      "platform           16444 non-null object\n",
      "year_of_release    16444 non-null int32\n",
      "genre              16444 non-null object\n",
      "na_sales           16444 non-null float32\n",
      "eu_sales           16444 non-null float32\n",
      "jp_sales           16444 non-null float32\n",
      "other_sales        16444 non-null float32\n",
      "critic_score       16444 non-null float32\n",
      "user_score         16444 non-null float32\n",
      "rating             16444 non-null object\n",
      "dtypes: float32(6), int32(1), object(4)\n",
      "memory usage: 1.7+ MB\n"
     ]
    }
   ],
   "source": [
    "game_data['year_of_release'] = game_data['year_of_release'].astype('int32')\n",
    "game_data['na_sales'] = game_data['na_sales'].astype('float32')\n",
    "game_data['eu_sales'] = game_data['eu_sales'].astype('float32')\n",
    "game_data['jp_sales'] = game_data['jp_sales'].astype('float32')\n",
    "game_data['other_sales'] = game_data['other_sales'].astype('float32')\n",
    "game_data['critic_score'] = game_data['critic_score'].astype('float32')\n",
    "game_data['user_score'] = game_data['user_score'].astype('float32')\n",
    "\n",
    "# verify\n",
    "game_data.info()"
   ]
  },
  {
   "cell_type": "markdown",
   "metadata": {},
   "source": [
    "Our datatypes have now been optimized - none of the values are too large so we are safe to use 32bit floats and integers instead of 64bit. The year was switched to an integer, and the rest down-scaled to 32bit floats. The last aspect we need to examine are the unique values in our object columns. We need to make sure the values make sense and that there are no misspellings. I will check platform, genre, and rating, as I imagine the names are almost all unique. "
   ]
  },
  {
   "cell_type": "code",
   "execution_count": 13,
   "metadata": {},
   "outputs": [
    {
     "data": {
      "text/plain": [
       "['2600',\n",
       " '3DO',\n",
       " '3DS',\n",
       " 'DC',\n",
       " 'DS',\n",
       " 'GB',\n",
       " 'GBA',\n",
       " 'GC',\n",
       " 'GEN',\n",
       " 'GG',\n",
       " 'N64',\n",
       " 'NES',\n",
       " 'NG',\n",
       " 'PC',\n",
       " 'PCFX',\n",
       " 'PS',\n",
       " 'PS2',\n",
       " 'PS3',\n",
       " 'PS4',\n",
       " 'PSP',\n",
       " 'PSV',\n",
       " 'SAT',\n",
       " 'SCD',\n",
       " 'SNES',\n",
       " 'TG16',\n",
       " 'WS',\n",
       " 'Wii',\n",
       " 'WiiU',\n",
       " 'X360',\n",
       " 'XB',\n",
       " 'XOne']"
      ]
     },
     "execution_count": 13,
     "metadata": {},
     "output_type": "execute_result"
    }
   ],
   "source": [
    "sorted(game_data['platform'].unique())"
   ]
  },
  {
   "cell_type": "code",
   "execution_count": 14,
   "metadata": {},
   "outputs": [
    {
     "data": {
      "text/plain": [
       "['Action',\n",
       " 'Adventure',\n",
       " 'Fighting',\n",
       " 'Misc',\n",
       " 'Platform',\n",
       " 'Puzzle',\n",
       " 'Racing',\n",
       " 'Role-Playing',\n",
       " 'Shooter',\n",
       " 'Simulation',\n",
       " 'Sports',\n",
       " 'Strategy']"
      ]
     },
     "execution_count": 14,
     "metadata": {},
     "output_type": "execute_result"
    }
   ],
   "source": [
    "sorted(game_data['genre'].unique())"
   ]
  },
  {
   "cell_type": "code",
   "execution_count": 15,
   "metadata": {},
   "outputs": [
    {
     "data": {
      "text/plain": [
       "['AO', 'E', 'E10+', 'EC', 'K-A', 'M', 'RP', 'T', 'unknown']"
      ]
     },
     "execution_count": 15,
     "metadata": {},
     "output_type": "execute_result"
    }
   ],
   "source": [
    "sorted(game_data['rating'].unique())"
   ]
  },
  {
   "cell_type": "markdown",
   "metadata": {},
   "source": [
    "Ok, all of these appear to be fine by me. They are all unique, nothing misspelled, and do not appear to be variations of one another. The data is now clean and ready to be analyzed. Let's add one new feature to the dataframe as it is missing and will be helpful down the road: the total number of sales globally."
   ]
  },
  {
   "cell_type": "markdown",
   "metadata": {},
   "source": [
    "### Feature Engineering"
   ]
  },
  {
   "cell_type": "code",
   "execution_count": 16,
   "metadata": {},
   "outputs": [
    {
     "data": {
      "text/html": [
       "<div>\n",
       "<style scoped>\n",
       "    .dataframe tbody tr th:only-of-type {\n",
       "        vertical-align: middle;\n",
       "    }\n",
       "\n",
       "    .dataframe tbody tr th {\n",
       "        vertical-align: top;\n",
       "    }\n",
       "\n",
       "    .dataframe thead th {\n",
       "        text-align: right;\n",
       "    }\n",
       "</style>\n",
       "<table border=\"1\" class=\"dataframe\">\n",
       "  <thead>\n",
       "    <tr style=\"text-align: right;\">\n",
       "      <th></th>\n",
       "      <th>name</th>\n",
       "      <th>platform</th>\n",
       "      <th>year_of_release</th>\n",
       "      <th>genre</th>\n",
       "      <th>na_sales</th>\n",
       "      <th>eu_sales</th>\n",
       "      <th>jp_sales</th>\n",
       "      <th>other_sales</th>\n",
       "      <th>critic_score</th>\n",
       "      <th>user_score</th>\n",
       "      <th>rating</th>\n",
       "      <th>total_sales</th>\n",
       "    </tr>\n",
       "  </thead>\n",
       "  <tbody>\n",
       "    <tr>\n",
       "      <td>0</td>\n",
       "      <td>Wii Sports</td>\n",
       "      <td>Wii</td>\n",
       "      <td>2006</td>\n",
       "      <td>Sports</td>\n",
       "      <td>41.360001</td>\n",
       "      <td>28.959999</td>\n",
       "      <td>3.77</td>\n",
       "      <td>8.45</td>\n",
       "      <td>76.0</td>\n",
       "      <td>8.0</td>\n",
       "      <td>E</td>\n",
       "      <td>82.539993</td>\n",
       "    </tr>\n",
       "    <tr>\n",
       "      <td>1</td>\n",
       "      <td>Super Mario Bros.</td>\n",
       "      <td>NES</td>\n",
       "      <td>1985</td>\n",
       "      <td>Platform</td>\n",
       "      <td>29.080000</td>\n",
       "      <td>3.580000</td>\n",
       "      <td>6.81</td>\n",
       "      <td>0.77</td>\n",
       "      <td>0.0</td>\n",
       "      <td>0.0</td>\n",
       "      <td>unknown</td>\n",
       "      <td>40.240002</td>\n",
       "    </tr>\n",
       "    <tr>\n",
       "      <td>2</td>\n",
       "      <td>Mario Kart Wii</td>\n",
       "      <td>Wii</td>\n",
       "      <td>2008</td>\n",
       "      <td>Racing</td>\n",
       "      <td>15.680000</td>\n",
       "      <td>12.760000</td>\n",
       "      <td>3.79</td>\n",
       "      <td>3.29</td>\n",
       "      <td>82.0</td>\n",
       "      <td>8.3</td>\n",
       "      <td>E</td>\n",
       "      <td>35.520000</td>\n",
       "    </tr>\n",
       "    <tr>\n",
       "      <td>3</td>\n",
       "      <td>Wii Sports Resort</td>\n",
       "      <td>Wii</td>\n",
       "      <td>2009</td>\n",
       "      <td>Sports</td>\n",
       "      <td>15.610000</td>\n",
       "      <td>10.930000</td>\n",
       "      <td>3.28</td>\n",
       "      <td>2.95</td>\n",
       "      <td>80.0</td>\n",
       "      <td>8.0</td>\n",
       "      <td>E</td>\n",
       "      <td>32.770000</td>\n",
       "    </tr>\n",
       "    <tr>\n",
       "      <td>4</td>\n",
       "      <td>Pokemon Red/Pokemon Blue</td>\n",
       "      <td>GB</td>\n",
       "      <td>1996</td>\n",
       "      <td>Role-Playing</td>\n",
       "      <td>11.270000</td>\n",
       "      <td>8.890000</td>\n",
       "      <td>10.22</td>\n",
       "      <td>1.00</td>\n",
       "      <td>0.0</td>\n",
       "      <td>0.0</td>\n",
       "      <td>unknown</td>\n",
       "      <td>31.380001</td>\n",
       "    </tr>\n",
       "  </tbody>\n",
       "</table>\n",
       "</div>"
      ],
      "text/plain": [
       "                       name platform  year_of_release         genre  \\\n",
       "0                Wii Sports      Wii             2006        Sports   \n",
       "1         Super Mario Bros.      NES             1985      Platform   \n",
       "2            Mario Kart Wii      Wii             2008        Racing   \n",
       "3         Wii Sports Resort      Wii             2009        Sports   \n",
       "4  Pokemon Red/Pokemon Blue       GB             1996  Role-Playing   \n",
       "\n",
       "    na_sales   eu_sales  jp_sales  other_sales  critic_score  user_score  \\\n",
       "0  41.360001  28.959999      3.77         8.45          76.0         8.0   \n",
       "1  29.080000   3.580000      6.81         0.77           0.0         0.0   \n",
       "2  15.680000  12.760000      3.79         3.29          82.0         8.3   \n",
       "3  15.610000  10.930000      3.28         2.95          80.0         8.0   \n",
       "4  11.270000   8.890000     10.22         1.00           0.0         0.0   \n",
       "\n",
       "    rating  total_sales  \n",
       "0        E    82.539993  \n",
       "1  unknown    40.240002  \n",
       "2        E    35.520000  \n",
       "3        E    32.770000  \n",
       "4  unknown    31.380001  "
      ]
     },
     "execution_count": 16,
     "metadata": {},
     "output_type": "execute_result"
    }
   ],
   "source": [
    "game_data['total_sales'] = game_data['na_sales'] + game_data['eu_sales'] + game_data['jp_sales'] + game_data['other_sales']\n",
    "\n",
    "# verify\n",
    "game_data.head()"
   ]
  },
  {
   "cell_type": "markdown",
   "metadata": {},
   "source": [
    "Ok excellent, now to round our floats down to two digits. Certainly not crucial, but we don't need six decimal places. "
   ]
  },
  {
   "cell_type": "code",
   "execution_count": 17,
   "metadata": {},
   "outputs": [],
   "source": [
    "pd.options.display.float_format = \"{:,.2f}\".format"
   ]
  },
  {
   "cell_type": "code",
   "execution_count": 18,
   "metadata": {},
   "outputs": [
    {
     "data": {
      "text/html": [
       "<div>\n",
       "<style scoped>\n",
       "    .dataframe tbody tr th:only-of-type {\n",
       "        vertical-align: middle;\n",
       "    }\n",
       "\n",
       "    .dataframe tbody tr th {\n",
       "        vertical-align: top;\n",
       "    }\n",
       "\n",
       "    .dataframe thead th {\n",
       "        text-align: right;\n",
       "    }\n",
       "</style>\n",
       "<table border=\"1\" class=\"dataframe\">\n",
       "  <thead>\n",
       "    <tr style=\"text-align: right;\">\n",
       "      <th></th>\n",
       "      <th>name</th>\n",
       "      <th>platform</th>\n",
       "      <th>year_of_release</th>\n",
       "      <th>genre</th>\n",
       "      <th>na_sales</th>\n",
       "      <th>eu_sales</th>\n",
       "      <th>jp_sales</th>\n",
       "      <th>other_sales</th>\n",
       "      <th>critic_score</th>\n",
       "      <th>user_score</th>\n",
       "      <th>rating</th>\n",
       "      <th>total_sales</th>\n",
       "    </tr>\n",
       "  </thead>\n",
       "  <tbody>\n",
       "    <tr>\n",
       "      <td>0</td>\n",
       "      <td>Wii Sports</td>\n",
       "      <td>Wii</td>\n",
       "      <td>2006</td>\n",
       "      <td>Sports</td>\n",
       "      <td>41.36</td>\n",
       "      <td>28.96</td>\n",
       "      <td>3.77</td>\n",
       "      <td>8.45</td>\n",
       "      <td>76.00</td>\n",
       "      <td>8.00</td>\n",
       "      <td>E</td>\n",
       "      <td>82.54</td>\n",
       "    </tr>\n",
       "    <tr>\n",
       "      <td>1</td>\n",
       "      <td>Super Mario Bros.</td>\n",
       "      <td>NES</td>\n",
       "      <td>1985</td>\n",
       "      <td>Platform</td>\n",
       "      <td>29.08</td>\n",
       "      <td>3.58</td>\n",
       "      <td>6.81</td>\n",
       "      <td>0.77</td>\n",
       "      <td>0.00</td>\n",
       "      <td>0.00</td>\n",
       "      <td>unknown</td>\n",
       "      <td>40.24</td>\n",
       "    </tr>\n",
       "    <tr>\n",
       "      <td>2</td>\n",
       "      <td>Mario Kart Wii</td>\n",
       "      <td>Wii</td>\n",
       "      <td>2008</td>\n",
       "      <td>Racing</td>\n",
       "      <td>15.68</td>\n",
       "      <td>12.76</td>\n",
       "      <td>3.79</td>\n",
       "      <td>3.29</td>\n",
       "      <td>82.00</td>\n",
       "      <td>8.30</td>\n",
       "      <td>E</td>\n",
       "      <td>35.52</td>\n",
       "    </tr>\n",
       "    <tr>\n",
       "      <td>3</td>\n",
       "      <td>Wii Sports Resort</td>\n",
       "      <td>Wii</td>\n",
       "      <td>2009</td>\n",
       "      <td>Sports</td>\n",
       "      <td>15.61</td>\n",
       "      <td>10.93</td>\n",
       "      <td>3.28</td>\n",
       "      <td>2.95</td>\n",
       "      <td>80.00</td>\n",
       "      <td>8.00</td>\n",
       "      <td>E</td>\n",
       "      <td>32.77</td>\n",
       "    </tr>\n",
       "    <tr>\n",
       "      <td>4</td>\n",
       "      <td>Pokemon Red/Pokemon Blue</td>\n",
       "      <td>GB</td>\n",
       "      <td>1996</td>\n",
       "      <td>Role-Playing</td>\n",
       "      <td>11.27</td>\n",
       "      <td>8.89</td>\n",
       "      <td>10.22</td>\n",
       "      <td>1.00</td>\n",
       "      <td>0.00</td>\n",
       "      <td>0.00</td>\n",
       "      <td>unknown</td>\n",
       "      <td>31.38</td>\n",
       "    </tr>\n",
       "  </tbody>\n",
       "</table>\n",
       "</div>"
      ],
      "text/plain": [
       "                       name platform  year_of_release         genre  na_sales  \\\n",
       "0                Wii Sports      Wii             2006        Sports     41.36   \n",
       "1         Super Mario Bros.      NES             1985      Platform     29.08   \n",
       "2            Mario Kart Wii      Wii             2008        Racing     15.68   \n",
       "3         Wii Sports Resort      Wii             2009        Sports     15.61   \n",
       "4  Pokemon Red/Pokemon Blue       GB             1996  Role-Playing     11.27   \n",
       "\n",
       "   eu_sales  jp_sales  other_sales  critic_score  user_score   rating  \\\n",
       "0     28.96      3.77         8.45         76.00        8.00        E   \n",
       "1      3.58      6.81         0.77          0.00        0.00  unknown   \n",
       "2     12.76      3.79         3.29         82.00        8.30        E   \n",
       "3     10.93      3.28         2.95         80.00        8.00        E   \n",
       "4      8.89     10.22         1.00          0.00        0.00  unknown   \n",
       "\n",
       "   total_sales  \n",
       "0        82.54  \n",
       "1        40.24  \n",
       "2        35.52  \n",
       "3        32.77  \n",
       "4        31.38  "
      ]
     },
     "execution_count": 18,
     "metadata": {},
     "output_type": "execute_result"
    }
   ],
   "source": [
    "# verify\n",
    "game_data.head()"
   ]
  },
  {
   "cell_type": "markdown",
   "metadata": {},
   "source": [
    "Now we are ready to analyze this. We should have all of the features we need to determine what makes a game successful, and where our advertisements are best spent (assuming we are forecasting for potential successful games in 2017)."
   ]
  },
  {
   "cell_type": "markdown",
   "metadata": {},
   "source": [
    "## Data Analysis"
   ]
  },
  {
   "cell_type": "markdown",
   "metadata": {},
   "source": [
    "Let's begin by looking at how many titles we have for each year."
   ]
  },
  {
   "cell_type": "code",
   "execution_count": 19,
   "metadata": {},
   "outputs": [],
   "source": [
    "import matplotlib.pyplot as plt\n",
    "\n",
    "titles_per_year = pd.pivot_table(\n",
    "                        game_data,\n",
    "                        index='year_of_release',\n",
    "                        values='name',\n",
    "                        aggfunc='count'\n",
    "                  )"
   ]
  },
  {
   "cell_type": "code",
   "execution_count": 20,
   "metadata": {},
   "outputs": [
    {
     "data": {
      "image/png": "[encoded data removed]",
      "text/plain": [
       "<Figure size 432x288 with 1 Axes>"
      ]
     },
     "metadata": {
      "needs_background": "light"
     },
     "output_type": "display_data"
    }
   ],
   "source": [
    "titles_per_year.plot()\n",
    "plt.xlabel('Year of Release')\n",
    "plt.ylabel('Number of titles')\n",
    "plt.title('Titles released per year')\n",
    "plt.legend();"
   ]
  },
  {
   "cell_type": "markdown",
   "metadata": {},
   "source": [
    "It looks like most of the titles here were released between 2005 - 2010. It's interesting to note that this is the same time period where we noticed most of the missing values and 'TBD' user scores existed. Remembering that the goal of our analysis is to look for trends to market potential big titles for 2017, we should also consider disregarding some of the older titles. The customer base for video games today is different from the customer base in 1980 and 1990. The features that lead to a success in 1980 will not be the same features that lead to success in 2017. To get the clearest take on what is popular today, we should remove anything prior to 2007. The market in 2017 will most closely resemble the market in the last decade, and since most of our data is in that range we will not lose a lot.\n",
    "<br><br>\n",
    "Before we remove the pre-2007 data, let's look at the trends in our platforms."
   ]
  },
  {
   "cell_type": "code",
   "execution_count": 21,
   "metadata": {},
   "outputs": [
    {
     "data": {
      "image/png": "[encoded data removed]",
      "text/plain": [
       "<Figure size 720x576 with 1 Axes>"
      ]
     },
     "metadata": {
      "needs_background": "light"
     },
     "output_type": "display_data"
    }
   ],
   "source": [
    "platform_data = game_data.groupby('platform')['total_sales'].sum()\n",
    "\n",
    "platform_data.sort_values(ascending=False).plot.barh(figsize=(10,8))\n",
    "plt.xlabel('Total sales (in USD million)')\n",
    "plt.ylabel('Platform')\n",
    "plt.title('Total sales per platform')\n",
    "plt.legend();"
   ]
  },
  {
   "cell_type": "markdown",
   "metadata": {},
   "source": [
    "It looks like we have a clear winner for total sales: the PS2. The next subset behind it is the original Playstation, Nintendo DS, Nintendo Wii, PS3, and XBox 360. There is a significant drop off in total sales for the next group including the PS4, Gameboy Advance, Playstation Portable, Nintendo 3DS, PC, Gameboy, XBox, Nintendo, Nintendo 64, Super Nintendo, Gamecube, and XBox One. For our purposes, we will focus on just these platforms (from the XBox One to the PS2 ranked by total sales). Let's look a little deeper now and see how long these platforms remain popular by examining the total sales per platform per year."
   ]
  },
  {
   "cell_type": "code",
   "execution_count": 22,
   "metadata": {},
   "outputs": [
    {
     "data": {
      "image/png": "[encoded data removed]",
      "text/plain": [
       "<Figure size 720x3240 with 1 Axes>"
      ]
     },
     "metadata": {
      "needs_background": "light"
     },
     "output_type": "display_data"
    }
   ],
   "source": [
    "popular_platforms = game_data[game_data['platform'].isin(['PS2', 'X360', 'PS3',\n",
    "                                                          'Wii', 'DS', 'PS',\n",
    "                                                          'PS4', 'GBA', 'PSP',\n",
    "                                                          '3DS', 'PC', 'GB',\n",
    "                                                          'XB', 'NES', 'N64',\n",
    "                                                          'SNES', 'GC', 'XOne'\n",
    "                                                          ])]\n",
    "\n",
    "platform_sales_per_year = pd.pivot_table(\n",
    "                                popular_platforms,\n",
    "                                index=['platform', 'year_of_release'],\n",
    "                                values='total_sales',\n",
    "                                aggfunc='sum'\n",
    "                          )\n",
    "platform_sales_per_year.plot.barh(figsize=(10,45))\n",
    "plt.xlabel('Total sales (in USD million)')\n",
    "plt.ylabel('Platform and year')\n",
    "plt.title('Total sales per year per platform')\n",
    "plt.legend();"
   ]
  },
  {
   "cell_type": "markdown",
   "metadata": {},
   "source": [
    "Each platform appears to remain popular for about 6 years. There are certainly exceptions to this rule, but most of the included platforms here appear to be in a 6 year cycle. The year that a new platform is released, the \"older\" platform has it's last or second to last year of sales as the \"successor\" starts to ramp up with new titles. Playstation is a clear exception to this rule, with the PS2 maintaining sales for about 9 years, and overlapping with the PS3 for 4 before fizzling out in 2011. The XBox 360 also maintained great sales for about 10 years, and overlapped with the XBox One for 3-4 years. The current generation platforms like the PS4 and XBox One are still \"new\" in this dataframe so they also do not stand by this 6 year cycle (each of them are only 4 years old). PC will also be outside of this cycle as PC gaming is an \"outlier\" as far as other platforms are concerned. In this dataframe, PC sales have remained steady from 1992 to 2016, peaking around 2009 - 2012.\n",
    "<br><br>\n",
    "Considering both of the above graphs, I think we are best off considering the most popular platforms from 2005 onwards. This slice of our dataframe will give us the best information on current gaming trends so that we can market the most likely profitable titles in 2017."
   ]
  },
  {
   "cell_type": "code",
   "execution_count": 23,
   "metadata": {},
   "outputs": [],
   "source": [
    "game_data = game_data[game_data['year_of_release'] > 2007]"
   ]
  },
  {
   "cell_type": "code",
   "execution_count": 24,
   "metadata": {},
   "outputs": [
    {
     "name": "stderr",
     "output_type": "stream",
     "text": [
      "/opt/conda/lib/python3.7/site-packages/numpy/core/_asarray.py:83: VisibleDeprecationWarning: Creating an ndarray from ragged nested sequences (which is a list-or-tuple of lists-or-tuples-or ndarrays with different lengths or shapes) is deprecated. If you meant to do this, you must specify 'dtype=object' when creating the ndarray\n",
      "  return array(a, dtype, copy=False, order=order)\n"
     ]
    },
    {
     "data": {
      "image/png": "[encoded data removed]",
      "text/plain": [
       "<Figure size 1080x504 with 1 Axes>"
      ]
     },
     "metadata": {
      "needs_background": "light"
     },
     "output_type": "display_data"
    }
   ],
   "source": [
    "game_data.boxplot(by='platform', column='total_sales', showfliers=False, figsize=(15,7));"
   ]
  },
  {
   "cell_type": "markdown",
   "metadata": {},
   "source": [
    "From the above, we can see how the total sales vary by platform. Our best selling platforms appear to be the PS3, PS4, X360, and XOne. The older generations of each (PS3 and X360) have a slightly higher median but this may be due to how relatively new the next generation is. Overall, the spread of the best selling platforms seem to put them noticeably apart from the pack. The Wii and WiiU are about on pace with the PS2, and the rest of the platforms have their medians in the 0 - 0.25 range. "
   ]
  },
  {
   "cell_type": "markdown",
   "metadata": {},
   "source": [
    "Now let's focus on how much critic and user reviews affect the total sales for titles. Let's look into the PS3 titles to see review impact on sales."
   ]
  },
  {
   "cell_type": "code",
   "execution_count": 25,
   "metadata": {},
   "outputs": [
    {
     "data": {
      "image/png": "[encoded data removed]",
      "text/plain": [
       "<Figure size 720x360 with 1 Axes>"
      ]
     },
     "metadata": {
      "needs_background": "light"
     },
     "output_type": "display_data"
    },
    {
     "name": "stdout",
     "output_type": "stream",
     "text": [
      "Pearson correlation: 0.4277390112301396\n"
     ]
    },
    {
     "data": {
      "image/png": "[encoded data removed]",
      "text/plain": [
       "<Figure size 720x360 with 1 Axes>"
      ]
     },
     "metadata": {
      "needs_background": "light"
     },
     "output_type": "display_data"
    },
    {
     "name": "stdout",
     "output_type": "stream",
     "text": [
      "Pearson correlation: 0.12999846331458\n"
     ]
    }
   ],
   "source": [
    "import numpy as np\n",
    "\n",
    "# filter by platform and removing 0 scores\n",
    "ps3_data = game_data[(game_data['platform'] == 'PS3') &\n",
    "                     (game_data['critic_score'] != 0) &\n",
    "                     (game_data['user_score'] != 0)]\n",
    "\n",
    "# set appropriate fig size first\n",
    "plt.rcParams[\"figure.figsize\"] = (10,5)\n",
    "\n",
    "# then create scatter plots\n",
    "plt.scatter(ps3_data['critic_score'], ps3_data['total_sales'], label='critic score', alpha=0.3)\n",
    "plt.xlabel('Critic Score')\n",
    "plt.ylabel('Total Sales')\n",
    "plt.title('Critic Score vs. Total Sales for PS3 Titles')\n",
    "# correlation line\n",
    "plt.plot(np.unique(ps3_data['critic_score']),\n",
    "         np.poly1d(np.polyfit(ps3_data['critic_score'], ps3_data['total_sales'], 1))\n",
    "         (np.unique(ps3_data['critic_score'])), color='purple')\n",
    "plt.legend()\n",
    "plt.show()\n",
    "# print correlation\n",
    "print('Pearson correlation:', ps3_data['critic_score'].corr(ps3_data['total_sales']))\n",
    "\n",
    "plt.scatter(ps3_data['user_score'], ps3_data['total_sales'], label='user score', color='red', alpha=0.3)\n",
    "plt.xlabel('User Score')\n",
    "plt.ylabel('Total Sales')\n",
    "plt.title('User Score vs. Total Sales for PS3 Titles')\n",
    "# correlation line\n",
    "plt.plot(np.unique(ps3_data['user_score']),\n",
    "         np.poly1d(np.polyfit(ps3_data['user_score'], ps3_data['total_sales'], 1))\n",
    "         (np.unique(ps3_data['user_score'])), color='purple')\n",
    "plt.legend()\n",
    "plt.show()\n",
    "# print correlation\n",
    "print('Pearson correlation:', ps3_data['user_score'].corr(ps3_data['total_sales']))"
   ]
  },
  {
   "cell_type": "code",
   "execution_count": 26,
   "metadata": {},
   "outputs": [],
   "source": [
    "# revert fig size back to normal\n",
    "plt.rcParams[\"figure.figsize\"] = plt.rcParamsDefault[\"figure.figsize\"]"
   ]
  },
  {
   "cell_type": "markdown",
   "metadata": {},
   "source": [
    "From the above, we can see that there is a slight positive correlation between the critic and user scores on the total sales of a given title. There appears to be a higher correlation on the side of critic reviews. This is possibly due to customers trusting a professional critic over a user, and/or also the fact that critics often receive the game before users. The critic review will usually be the first review a potential customer sees. If it's a generally positive review, the user is more likely to purchase it. If the game is good, then the user will likely give it a positive review as well - leading to the slight positive correlation on the user_score. Regardless of how it actually happens, scores do appear to have an affect on the total sales of a game.\n",
    "<br><br>\n",
    "Now lets look to see how the platform impacts game sales. There are some multi-platform titles in our data set, so let's pull them into a new dataframe and plot the results."
   ]
  },
  {
   "cell_type": "code",
   "execution_count": 27,
   "metadata": {},
   "outputs": [
    {
     "data": {
      "image/png": "[encoded data removed]",
      "text/plain": [
       "<Figure size 720x1440 with 1 Axes>"
      ]
     },
     "metadata": {
      "needs_background": "light"
     },
     "output_type": "display_data"
    }
   ],
   "source": [
    "import seaborn as sns\n",
    "\n",
    "# filter by duplicated titles\n",
    "same_game_df = game_data[game_data.duplicated(subset='name', keep=False)].sort_values(by='name')\n",
    "\n",
    "# since this is a large df, let's look at a subset of it\n",
    "same_game_df_1 = same_game_df[2000:2200]\n",
    "\n",
    "# set appropriate fig size first\n",
    "plt.rcParams[\"figure.figsize\"] = (10,20)\n",
    "\n",
    "sns.barplot(x='total_sales', hue='platform', y='name', data=same_game_df_1, orient='h')\n",
    "plt.xlabel(\"Total Sales\")\n",
    "plt.ylabel(\"Game\")\n",
    "plt.title(\"Sales of games on multiple platforms\")\n",
    "plt.show()"
   ]
  },
  {
   "cell_type": "code",
   "execution_count": 28,
   "metadata": {},
   "outputs": [
    {
     "data": {
      "text/html": [
       "<div>\n",
       "<style scoped>\n",
       "    .dataframe tbody tr th:only-of-type {\n",
       "        vertical-align: middle;\n",
       "    }\n",
       "\n",
       "    .dataframe tbody tr th {\n",
       "        vertical-align: top;\n",
       "    }\n",
       "\n",
       "    .dataframe thead th {\n",
       "        text-align: right;\n",
       "    }\n",
       "</style>\n",
       "<table border=\"1\" class=\"dataframe\">\n",
       "  <thead>\n",
       "    <tr style=\"text-align: right;\">\n",
       "      <th></th>\n",
       "      <th>name</th>\n",
       "      <th>platform</th>\n",
       "      <th>year_of_release</th>\n",
       "      <th>genre</th>\n",
       "      <th>na_sales</th>\n",
       "      <th>eu_sales</th>\n",
       "      <th>jp_sales</th>\n",
       "      <th>other_sales</th>\n",
       "      <th>critic_score</th>\n",
       "      <th>user_score</th>\n",
       "      <th>rating</th>\n",
       "      <th>total_sales</th>\n",
       "    </tr>\n",
       "  </thead>\n",
       "  <tbody>\n",
       "    <tr>\n",
       "      <td>3358</td>\n",
       "      <td>Frozen: Olaf's Quest</td>\n",
       "      <td>3DS</td>\n",
       "      <td>2013</td>\n",
       "      <td>Platform</td>\n",
       "      <td>0.27</td>\n",
       "      <td>0.27</td>\n",
       "      <td>0.00</td>\n",
       "      <td>0.05</td>\n",
       "      <td>0.00</td>\n",
       "      <td>0.00</td>\n",
       "      <td>unknown</td>\n",
       "      <td>0.59</td>\n",
       "    </tr>\n",
       "    <tr>\n",
       "      <td>3862</td>\n",
       "      <td>Frozen: Olaf's Quest</td>\n",
       "      <td>DS</td>\n",
       "      <td>2013</td>\n",
       "      <td>Platform</td>\n",
       "      <td>0.21</td>\n",
       "      <td>0.26</td>\n",
       "      <td>0.00</td>\n",
       "      <td>0.04</td>\n",
       "      <td>0.00</td>\n",
       "      <td>0.00</td>\n",
       "      <td>unknown</td>\n",
       "      <td>0.51</td>\n",
       "    </tr>\n",
       "    <tr>\n",
       "      <td>1785</td>\n",
       "      <td>007: Quantum of Solace</td>\n",
       "      <td>PS3</td>\n",
       "      <td>2008</td>\n",
       "      <td>Action</td>\n",
       "      <td>0.43</td>\n",
       "      <td>0.51</td>\n",
       "      <td>0.02</td>\n",
       "      <td>0.19</td>\n",
       "      <td>65.00</td>\n",
       "      <td>6.60</td>\n",
       "      <td>T</td>\n",
       "      <td>1.15</td>\n",
       "    </tr>\n",
       "    <tr>\n",
       "      <td>1285</td>\n",
       "      <td>007: Quantum of Solace</td>\n",
       "      <td>X360</td>\n",
       "      <td>2008</td>\n",
       "      <td>Action</td>\n",
       "      <td>0.82</td>\n",
       "      <td>0.51</td>\n",
       "      <td>0.01</td>\n",
       "      <td>0.14</td>\n",
       "      <td>65.00</td>\n",
       "      <td>7.10</td>\n",
       "      <td>T</td>\n",
       "      <td>1.48</td>\n",
       "    </tr>\n",
       "    <tr>\n",
       "      <td>4475</td>\n",
       "      <td>007: Quantum of Solace</td>\n",
       "      <td>PS2</td>\n",
       "      <td>2008</td>\n",
       "      <td>Action</td>\n",
       "      <td>0.17</td>\n",
       "      <td>0.00</td>\n",
       "      <td>0.00</td>\n",
       "      <td>0.26</td>\n",
       "      <td>0.00</td>\n",
       "      <td>0.00</td>\n",
       "      <td>unknown</td>\n",
       "      <td>0.43</td>\n",
       "    </tr>\n",
       "    <tr>\n",
       "      <td>3120</td>\n",
       "      <td>007: Quantum of Solace</td>\n",
       "      <td>Wii</td>\n",
       "      <td>2008</td>\n",
       "      <td>Action</td>\n",
       "      <td>0.29</td>\n",
       "      <td>0.28</td>\n",
       "      <td>0.01</td>\n",
       "      <td>0.07</td>\n",
       "      <td>54.00</td>\n",
       "      <td>7.50</td>\n",
       "      <td>T</td>\n",
       "      <td>0.65</td>\n",
       "    </tr>\n",
       "    <tr>\n",
       "      <td>14658</td>\n",
       "      <td>007: Quantum of Solace</td>\n",
       "      <td>PC</td>\n",
       "      <td>2008</td>\n",
       "      <td>Action</td>\n",
       "      <td>0.01</td>\n",
       "      <td>0.01</td>\n",
       "      <td>0.00</td>\n",
       "      <td>0.00</td>\n",
       "      <td>70.00</td>\n",
       "      <td>6.30</td>\n",
       "      <td>T</td>\n",
       "      <td>0.02</td>\n",
       "    </tr>\n",
       "    <tr>\n",
       "      <td>9507</td>\n",
       "      <td>007: Quantum of Solace</td>\n",
       "      <td>DS</td>\n",
       "      <td>2008</td>\n",
       "      <td>Action</td>\n",
       "      <td>0.11</td>\n",
       "      <td>0.01</td>\n",
       "      <td>0.00</td>\n",
       "      <td>0.01</td>\n",
       "      <td>65.00</td>\n",
       "      <td>0.00</td>\n",
       "      <td>T</td>\n",
       "      <td>0.13</td>\n",
       "    </tr>\n",
       "    <tr>\n",
       "      <td>15091</td>\n",
       "      <td>11eyes: CrossOver</td>\n",
       "      <td>X360</td>\n",
       "      <td>2009</td>\n",
       "      <td>Adventure</td>\n",
       "      <td>0.00</td>\n",
       "      <td>0.00</td>\n",
       "      <td>0.02</td>\n",
       "      <td>0.00</td>\n",
       "      <td>0.00</td>\n",
       "      <td>0.00</td>\n",
       "      <td>unknown</td>\n",
       "      <td>0.02</td>\n",
       "    </tr>\n",
       "    <tr>\n",
       "      <td>15656</td>\n",
       "      <td>11eyes: CrossOver</td>\n",
       "      <td>PSP</td>\n",
       "      <td>2010</td>\n",
       "      <td>Adventure</td>\n",
       "      <td>0.00</td>\n",
       "      <td>0.00</td>\n",
       "      <td>0.02</td>\n",
       "      <td>0.00</td>\n",
       "      <td>0.00</td>\n",
       "      <td>0.00</td>\n",
       "      <td>unknown</td>\n",
       "      <td>0.02</td>\n",
       "    </tr>\n",
       "    <tr>\n",
       "      <td>4579</td>\n",
       "      <td>2010 FIFA World Cup South Africa</td>\n",
       "      <td>Wii</td>\n",
       "      <td>2010</td>\n",
       "      <td>Sports</td>\n",
       "      <td>0.23</td>\n",
       "      <td>0.15</td>\n",
       "      <td>0.01</td>\n",
       "      <td>0.04</td>\n",
       "      <td>70.00</td>\n",
       "      <td>6.70</td>\n",
       "      <td>E</td>\n",
       "      <td>0.43</td>\n",
       "    </tr>\n",
       "    <tr>\n",
       "      <td>1634</td>\n",
       "      <td>2010 FIFA World Cup South Africa</td>\n",
       "      <td>PS3</td>\n",
       "      <td>2010</td>\n",
       "      <td>Sports</td>\n",
       "      <td>0.30</td>\n",
       "      <td>0.64</td>\n",
       "      <td>0.07</td>\n",
       "      <td>0.22</td>\n",
       "      <td>82.00</td>\n",
       "      <td>7.80</td>\n",
       "      <td>E</td>\n",
       "      <td>1.23</td>\n",
       "    </tr>\n",
       "    <tr>\n",
       "      <td>4211</td>\n",
       "      <td>2010 FIFA World Cup South Africa</td>\n",
       "      <td>PSP</td>\n",
       "      <td>2010</td>\n",
       "      <td>Sports</td>\n",
       "      <td>0.09</td>\n",
       "      <td>0.22</td>\n",
       "      <td>0.03</td>\n",
       "      <td>0.12</td>\n",
       "      <td>69.00</td>\n",
       "      <td>7.40</td>\n",
       "      <td>E</td>\n",
       "      <td>0.46</td>\n",
       "    </tr>\n",
       "    <tr>\n",
       "      <td>2429</td>\n",
       "      <td>2010 FIFA World Cup South Africa</td>\n",
       "      <td>X360</td>\n",
       "      <td>2010</td>\n",
       "      <td>Sports</td>\n",
       "      <td>0.32</td>\n",
       "      <td>0.42</td>\n",
       "      <td>0.02</td>\n",
       "      <td>0.09</td>\n",
       "      <td>83.00</td>\n",
       "      <td>8.10</td>\n",
       "      <td>E</td>\n",
       "      <td>0.85</td>\n",
       "    </tr>\n",
       "    <tr>\n",
       "      <td>4550</td>\n",
       "      <td>2014 FIFA World Cup Brazil</td>\n",
       "      <td>X360</td>\n",
       "      <td>2014</td>\n",
       "      <td>Sports</td>\n",
       "      <td>0.15</td>\n",
       "      <td>0.25</td>\n",
       "      <td>0.00</td>\n",
       "      <td>0.03</td>\n",
       "      <td>74.00</td>\n",
       "      <td>4.40</td>\n",
       "      <td>E</td>\n",
       "      <td>0.43</td>\n",
       "    </tr>\n",
       "    <tr>\n",
       "      <td>3271</td>\n",
       "      <td>2014 FIFA World Cup Brazil</td>\n",
       "      <td>PS3</td>\n",
       "      <td>2014</td>\n",
       "      <td>Sports</td>\n",
       "      <td>0.15</td>\n",
       "      <td>0.36</td>\n",
       "      <td>0.01</td>\n",
       "      <td>0.09</td>\n",
       "      <td>73.00</td>\n",
       "      <td>4.30</td>\n",
       "      <td>E</td>\n",
       "      <td>0.61</td>\n",
       "    </tr>\n",
       "    <tr>\n",
       "      <td>7890</td>\n",
       "      <td>3rd Super Robot Wars Z Jigoku Hen</td>\n",
       "      <td>PSV</td>\n",
       "      <td>2014</td>\n",
       "      <td>Role-Playing</td>\n",
       "      <td>0.00</td>\n",
       "      <td>0.00</td>\n",
       "      <td>0.19</td>\n",
       "      <td>0.00</td>\n",
       "      <td>0.00</td>\n",
       "      <td>0.00</td>\n",
       "      <td>unknown</td>\n",
       "      <td>0.19</td>\n",
       "    </tr>\n",
       "    <tr>\n",
       "      <td>7116</td>\n",
       "      <td>3rd Super Robot Wars Z Jigoku Hen</td>\n",
       "      <td>PS3</td>\n",
       "      <td>2014</td>\n",
       "      <td>Role-Playing</td>\n",
       "      <td>0.00</td>\n",
       "      <td>0.00</td>\n",
       "      <td>0.23</td>\n",
       "      <td>0.00</td>\n",
       "      <td>0.00</td>\n",
       "      <td>0.00</td>\n",
       "      <td>unknown</td>\n",
       "      <td>0.23</td>\n",
       "    </tr>\n",
       "    <tr>\n",
       "      <td>7882</td>\n",
       "      <td>3rd Super Robot Wars Z: Tengoku-Hen</td>\n",
       "      <td>PSV</td>\n",
       "      <td>2015</td>\n",
       "      <td>Action</td>\n",
       "      <td>0.00</td>\n",
       "      <td>0.00</td>\n",
       "      <td>0.19</td>\n",
       "      <td>0.00</td>\n",
       "      <td>0.00</td>\n",
       "      <td>0.00</td>\n",
       "      <td>unknown</td>\n",
       "      <td>0.19</td>\n",
       "    </tr>\n",
       "    <tr>\n",
       "      <td>8820</td>\n",
       "      <td>3rd Super Robot Wars Z: Tengoku-Hen</td>\n",
       "      <td>PS3</td>\n",
       "      <td>2015</td>\n",
       "      <td>Action</td>\n",
       "      <td>0.00</td>\n",
       "      <td>0.00</td>\n",
       "      <td>0.15</td>\n",
       "      <td>0.00</td>\n",
       "      <td>0.00</td>\n",
       "      <td>0.00</td>\n",
       "      <td>unknown</td>\n",
       "      <td>0.15</td>\n",
       "    </tr>\n",
       "  </tbody>\n",
       "</table>\n",
       "</div>"
      ],
      "text/plain": [
       "                                      name platform  year_of_release  \\\n",
       "3358                  Frozen: Olaf's Quest      3DS             2013   \n",
       "3862                  Frozen: Olaf's Quest       DS             2013   \n",
       "1785                007: Quantum of Solace      PS3             2008   \n",
       "1285                007: Quantum of Solace     X360             2008   \n",
       "4475                007: Quantum of Solace      PS2             2008   \n",
       "3120                007: Quantum of Solace      Wii             2008   \n",
       "14658               007: Quantum of Solace       PC             2008   \n",
       "9507                007: Quantum of Solace       DS             2008   \n",
       "15091                    11eyes: CrossOver     X360             2009   \n",
       "15656                    11eyes: CrossOver      PSP             2010   \n",
       "4579      2010 FIFA World Cup South Africa      Wii             2010   \n",
       "1634      2010 FIFA World Cup South Africa      PS3             2010   \n",
       "4211      2010 FIFA World Cup South Africa      PSP             2010   \n",
       "2429      2010 FIFA World Cup South Africa     X360             2010   \n",
       "4550            2014 FIFA World Cup Brazil     X360             2014   \n",
       "3271            2014 FIFA World Cup Brazil      PS3             2014   \n",
       "7890     3rd Super Robot Wars Z Jigoku Hen      PSV             2014   \n",
       "7116     3rd Super Robot Wars Z Jigoku Hen      PS3             2014   \n",
       "7882   3rd Super Robot Wars Z: Tengoku-Hen      PSV             2015   \n",
       "8820   3rd Super Robot Wars Z: Tengoku-Hen      PS3             2015   \n",
       "\n",
       "              genre  na_sales  eu_sales  jp_sales  other_sales  critic_score  \\\n",
       "3358       Platform      0.27      0.27      0.00         0.05          0.00   \n",
       "3862       Platform      0.21      0.26      0.00         0.04          0.00   \n",
       "1785         Action      0.43      0.51      0.02         0.19         65.00   \n",
       "1285         Action      0.82      0.51      0.01         0.14         65.00   \n",
       "4475         Action      0.17      0.00      0.00         0.26          0.00   \n",
       "3120         Action      0.29      0.28      0.01         0.07         54.00   \n",
       "14658        Action      0.01      0.01      0.00         0.00         70.00   \n",
       "9507         Action      0.11      0.01      0.00         0.01         65.00   \n",
       "15091     Adventure      0.00      0.00      0.02         0.00          0.00   \n",
       "15656     Adventure      0.00      0.00      0.02         0.00          0.00   \n",
       "4579         Sports      0.23      0.15      0.01         0.04         70.00   \n",
       "1634         Sports      0.30      0.64      0.07         0.22         82.00   \n",
       "4211         Sports      0.09      0.22      0.03         0.12         69.00   \n",
       "2429         Sports      0.32      0.42      0.02         0.09         83.00   \n",
       "4550         Sports      0.15      0.25      0.00         0.03         74.00   \n",
       "3271         Sports      0.15      0.36      0.01         0.09         73.00   \n",
       "7890   Role-Playing      0.00      0.00      0.19         0.00          0.00   \n",
       "7116   Role-Playing      0.00      0.00      0.23         0.00          0.00   \n",
       "7882         Action      0.00      0.00      0.19         0.00          0.00   \n",
       "8820         Action      0.00      0.00      0.15         0.00          0.00   \n",
       "\n",
       "       user_score   rating  total_sales  \n",
       "3358         0.00  unknown         0.59  \n",
       "3862         0.00  unknown         0.51  \n",
       "1785         6.60        T         1.15  \n",
       "1285         7.10        T         1.48  \n",
       "4475         0.00  unknown         0.43  \n",
       "3120         7.50        T         0.65  \n",
       "14658        6.30        T         0.02  \n",
       "9507         0.00        T         0.13  \n",
       "15091        0.00  unknown         0.02  \n",
       "15656        0.00  unknown         0.02  \n",
       "4579         6.70        E         0.43  \n",
       "1634         7.80        E         1.23  \n",
       "4211         7.40        E         0.46  \n",
       "2429         8.10        E         0.85  \n",
       "4550         4.40        E         0.43  \n",
       "3271         4.30        E         0.61  \n",
       "7890         0.00  unknown         0.19  \n",
       "7116         0.00  unknown         0.23  \n",
       "7882         0.00  unknown         0.19  \n",
       "8820         0.00  unknown         0.15  "
      ]
     },
     "execution_count": 28,
     "metadata": {},
     "output_type": "execute_result"
    }
   ],
   "source": [
    "same_game_df.head(20)"
   ]
  },
  {
   "cell_type": "code",
   "execution_count": 29,
   "metadata": {},
   "outputs": [
    {
     "data": {
      "image/png": "[encoded data removed]",
      "text/plain": [
       "<Figure size 720x1440 with 1 Axes>"
      ]
     },
     "metadata": {
      "needs_background": "light"
     },
     "output_type": "display_data"
    }
   ],
   "source": [
    "# let's look at the next few hundred as well\n",
    "same_game_df_2 = same_game_df[100:300]\n",
    "\n",
    "sns.barplot(x='total_sales', hue='platform', y='name', data=same_game_df_2, orient='h')\n",
    "plt.xlabel(\"Total Sales\")\n",
    "plt.ylabel(\"Game\")\n",
    "plt.title(\"Sales of games on multiple platforms\")\n",
    "plt.show()"
   ]
  },
  {
   "cell_type": "code",
   "execution_count": 30,
   "metadata": {},
   "outputs": [
    {
     "data": {
      "image/png": "[encoded data removed]",
      "text/plain": [
       "<Figure size 720x1440 with 1 Axes>"
      ]
     },
     "metadata": {
      "needs_background": "light"
     },
     "output_type": "display_data"
    }
   ],
   "source": [
    "same_game_df_3 = same_game_df[800:1000]\n",
    "\n",
    "sns.barplot(x='total_sales', hue='platform', y='name', data=same_game_df_3, orient='h')\n",
    "plt.xlabel(\"Total Sales\")\n",
    "plt.ylabel(\"Game\")\n",
    "plt.title(\"Sales of games on multiple platforms\")\n",
    "plt.show()"
   ]
  },
  {
   "cell_type": "markdown",
   "metadata": {},
   "source": [
    "From the slices we can see above, there does not appear to be any clear relationship between the platform a game is released on and the total sales. By this I mean, some games appear to do well on XB early on and then later versions appear more popular on PS. Others appear to be popular on both XB and PS equally throughout the lifespan of the series.\n",
    "<br><br>\n",
    "Next let's look to see what our best-selling genres are."
   ]
  },
  {
   "cell_type": "code",
   "execution_count": 31,
   "metadata": {},
   "outputs": [
    {
     "data": {
      "image/png": "[encoded data removed]",
      "text/plain": [
       "<Figure size 720x576 with 1 Axes>"
      ]
     },
     "metadata": {
      "needs_background": "light"
     },
     "output_type": "display_data"
    }
   ],
   "source": [
    "genre_data = game_data.groupby('genre')['total_sales'].sum()\n",
    "\n",
    "genre_data.sort_values(ascending=False).plot.barh(figsize=(10,8))\n",
    "plt.xlabel('Total sales (in USD million)')\n",
    "plt.ylabel('Genre')\n",
    "plt.title('Total sales per genre')\n",
    "plt.legend();"
   ]
  },
  {
   "cell_type": "markdown",
   "metadata": {},
   "source": [
    "Our highest selling game genres are action, sports, and shooter. In my opinion, this slices the largest group of video game customers. Shooters and sports titles are popular in e-sports and are released very regularly (titles like Call of Duty and Fifa). Action covers the rest of the market as it's a fairly general genre that most titles would likely qualify for. On the other end of the spectrum we have our lowest selling genres: strategy, adventure, and puzzle. These genres often move at a slower pace and may require a lot more reading and thinking to progress. These game genres do not lend themselves to competition well and therefore miss the e-sports market, further decreasing potential sales. "
   ]
  },
  {
   "cell_type": "markdown",
   "metadata": {},
   "source": [
    "To conclude our EDA - we have found that we should focus on data after 2007, and that our best sellers will be in the action, sports, and shooter genres. There does not appear to be any effect that the platform has on our multi-platform releases, but PS and XBox appear to do the best, so our marketing will focus on the current generation of those manufacturers: PS4 and XOne. "
   ]
  },
  {
   "cell_type": "markdown",
   "metadata": {},
   "source": [
    "## Regional User Profiles"
   ]
  },
  {
   "cell_type": "markdown",
   "metadata": {},
   "source": [
    "Now that we've targeted our decade, platform, and genre, let's see what the regional sales can tell us about what is popular in NA, EU, and JP."
   ]
  },
  {
   "cell_type": "markdown",
   "metadata": {},
   "source": [
    "### Popular Platform"
   ]
  },
  {
   "cell_type": "code",
   "execution_count": 32,
   "metadata": {},
   "outputs": [
    {
     "data": {
      "text/html": [
       "<div>\n",
       "<style scoped>\n",
       "    .dataframe tbody tr th:only-of-type {\n",
       "        vertical-align: middle;\n",
       "    }\n",
       "\n",
       "    .dataframe tbody tr th {\n",
       "        vertical-align: top;\n",
       "    }\n",
       "\n",
       "    .dataframe thead th {\n",
       "        text-align: right;\n",
       "    }\n",
       "</style>\n",
       "<table border=\"1\" class=\"dataframe\">\n",
       "  <thead>\n",
       "    <tr style=\"text-align: right;\">\n",
       "      <th></th>\n",
       "      <th>name</th>\n",
       "      <th>platform</th>\n",
       "      <th>year_of_release</th>\n",
       "      <th>genre</th>\n",
       "      <th>na_sales</th>\n",
       "      <th>eu_sales</th>\n",
       "      <th>jp_sales</th>\n",
       "      <th>other_sales</th>\n",
       "      <th>critic_score</th>\n",
       "      <th>user_score</th>\n",
       "      <th>rating</th>\n",
       "      <th>total_sales</th>\n",
       "    </tr>\n",
       "  </thead>\n",
       "  <tbody>\n",
       "    <tr>\n",
       "      <td>2</td>\n",
       "      <td>Mario Kart Wii</td>\n",
       "      <td>Wii</td>\n",
       "      <td>2008</td>\n",
       "      <td>Racing</td>\n",
       "      <td>15.68</td>\n",
       "      <td>12.76</td>\n",
       "      <td>3.79</td>\n",
       "      <td>3.29</td>\n",
       "      <td>82.00</td>\n",
       "      <td>8.30</td>\n",
       "      <td>E</td>\n",
       "      <td>35.52</td>\n",
       "    </tr>\n",
       "    <tr>\n",
       "      <td>3</td>\n",
       "      <td>Wii Sports Resort</td>\n",
       "      <td>Wii</td>\n",
       "      <td>2009</td>\n",
       "      <td>Sports</td>\n",
       "      <td>15.61</td>\n",
       "      <td>10.93</td>\n",
       "      <td>3.28</td>\n",
       "      <td>2.95</td>\n",
       "      <td>80.00</td>\n",
       "      <td>8.00</td>\n",
       "      <td>E</td>\n",
       "      <td>32.77</td>\n",
       "    </tr>\n",
       "    <tr>\n",
       "      <td>8</td>\n",
       "      <td>New Super Mario Bros. Wii</td>\n",
       "      <td>Wii</td>\n",
       "      <td>2009</td>\n",
       "      <td>Platform</td>\n",
       "      <td>14.44</td>\n",
       "      <td>6.94</td>\n",
       "      <td>4.70</td>\n",
       "      <td>2.24</td>\n",
       "      <td>87.00</td>\n",
       "      <td>8.40</td>\n",
       "      <td>E</td>\n",
       "      <td>28.32</td>\n",
       "    </tr>\n",
       "    <tr>\n",
       "      <td>14</td>\n",
       "      <td>Kinect Adventures!</td>\n",
       "      <td>X360</td>\n",
       "      <td>2010</td>\n",
       "      <td>Misc</td>\n",
       "      <td>15.00</td>\n",
       "      <td>4.89</td>\n",
       "      <td>0.24</td>\n",
       "      <td>1.69</td>\n",
       "      <td>61.00</td>\n",
       "      <td>6.30</td>\n",
       "      <td>E</td>\n",
       "      <td>21.82</td>\n",
       "    </tr>\n",
       "    <tr>\n",
       "      <td>15</td>\n",
       "      <td>Wii Fit Plus</td>\n",
       "      <td>Wii</td>\n",
       "      <td>2009</td>\n",
       "      <td>Sports</td>\n",
       "      <td>9.01</td>\n",
       "      <td>8.49</td>\n",
       "      <td>2.53</td>\n",
       "      <td>1.77</td>\n",
       "      <td>80.00</td>\n",
       "      <td>7.40</td>\n",
       "      <td>E</td>\n",
       "      <td>21.80</td>\n",
       "    </tr>\n",
       "  </tbody>\n",
       "</table>\n",
       "</div>"
      ],
      "text/plain": [
       "                         name platform  year_of_release     genre  na_sales  \\\n",
       "2              Mario Kart Wii      Wii             2008    Racing     15.68   \n",
       "3           Wii Sports Resort      Wii             2009    Sports     15.61   \n",
       "8   New Super Mario Bros. Wii      Wii             2009  Platform     14.44   \n",
       "14         Kinect Adventures!     X360             2010      Misc     15.00   \n",
       "15               Wii Fit Plus      Wii             2009    Sports      9.01   \n",
       "\n",
       "    eu_sales  jp_sales  other_sales  critic_score  user_score rating  \\\n",
       "2      12.76      3.79         3.29         82.00        8.30      E   \n",
       "3      10.93      3.28         2.95         80.00        8.00      E   \n",
       "8       6.94      4.70         2.24         87.00        8.40      E   \n",
       "14      4.89      0.24         1.69         61.00        6.30      E   \n",
       "15      8.49      2.53         1.77         80.00        7.40      E   \n",
       "\n",
       "    total_sales  \n",
       "2         35.52  \n",
       "3         32.77  \n",
       "8         28.32  \n",
       "14        21.82  \n",
       "15        21.80  "
      ]
     },
     "execution_count": 32,
     "metadata": {},
     "output_type": "execute_result"
    }
   ],
   "source": [
    "game_data.head()"
   ]
  },
  {
   "cell_type": "code",
   "execution_count": 33,
   "metadata": {},
   "outputs": [
    {
     "data": {
      "text/html": [
       "<div>\n",
       "<style scoped>\n",
       "    .dataframe tbody tr th:only-of-type {\n",
       "        vertical-align: middle;\n",
       "    }\n",
       "\n",
       "    .dataframe tbody tr th {\n",
       "        vertical-align: top;\n",
       "    }\n",
       "\n",
       "    .dataframe thead th {\n",
       "        text-align: right;\n",
       "    }\n",
       "</style>\n",
       "<table border=\"1\" class=\"dataframe\">\n",
       "  <thead>\n",
       "    <tr style=\"text-align: right;\">\n",
       "      <th></th>\n",
       "      <th>eu_sales</th>\n",
       "      <th>jp_sales</th>\n",
       "      <th>na_sales</th>\n",
       "    </tr>\n",
       "    <tr>\n",
       "      <th>platform</th>\n",
       "      <th></th>\n",
       "      <th></th>\n",
       "      <th></th>\n",
       "    </tr>\n",
       "  </thead>\n",
       "  <tbody>\n",
       "    <tr>\n",
       "      <td>X360</td>\n",
       "      <td>234.88</td>\n",
       "      <td>9.30</td>\n",
       "      <td>490.69</td>\n",
       "    </tr>\n",
       "    <tr>\n",
       "      <td>PS3</td>\n",
       "      <td>293.73</td>\n",
       "      <td>74.11</td>\n",
       "      <td>349.13</td>\n",
       "    </tr>\n",
       "    <tr>\n",
       "      <td>Wii</td>\n",
       "      <td>170.74</td>\n",
       "      <td>47.01</td>\n",
       "      <td>332.87</td>\n",
       "    </tr>\n",
       "    <tr>\n",
       "      <td>DS</td>\n",
       "      <td>86.13</td>\n",
       "      <td>76.12</td>\n",
       "      <td>198.73</td>\n",
       "    </tr>\n",
       "    <tr>\n",
       "      <td>PS4</td>\n",
       "      <td>141.09</td>\n",
       "      <td>15.96</td>\n",
       "      <td>108.74</td>\n",
       "    </tr>\n",
       "  </tbody>\n",
       "</table>\n",
       "</div>"
      ],
      "text/plain": [
       "          eu_sales  jp_sales  na_sales\n",
       "platform                              \n",
       "X360        234.88      9.30    490.69\n",
       "PS3         293.73     74.11    349.13\n",
       "Wii         170.74     47.01    332.87\n",
       "DS           86.13     76.12    198.73\n",
       "PS4         141.09     15.96    108.74"
      ]
     },
     "execution_count": 33,
     "metadata": {},
     "output_type": "execute_result"
    }
   ],
   "source": [
    "pop_platform_reg = pd.pivot_table(\n",
    "                        game_data,\n",
    "                        index='platform',\n",
    "                        values=['na_sales', 'eu_sales', 'jp_sales'],\n",
    "                        aggfunc='sum'\n",
    "                   )\n",
    "# na first\n",
    "pop_platform_reg.sort_values(by='na_sales', ascending=False).head()"
   ]
  },
  {
   "cell_type": "code",
   "execution_count": 34,
   "metadata": {},
   "outputs": [
    {
     "data": {
      "text/html": [
       "<div>\n",
       "<style scoped>\n",
       "    .dataframe tbody tr th:only-of-type {\n",
       "        vertical-align: middle;\n",
       "    }\n",
       "\n",
       "    .dataframe tbody tr th {\n",
       "        vertical-align: top;\n",
       "    }\n",
       "\n",
       "    .dataframe thead th {\n",
       "        text-align: right;\n",
       "    }\n",
       "</style>\n",
       "<table border=\"1\" class=\"dataframe\">\n",
       "  <thead>\n",
       "    <tr style=\"text-align: right;\">\n",
       "      <th></th>\n",
       "      <th>eu_sales</th>\n",
       "      <th>jp_sales</th>\n",
       "      <th>na_sales</th>\n",
       "    </tr>\n",
       "    <tr>\n",
       "      <th>platform</th>\n",
       "      <th></th>\n",
       "      <th></th>\n",
       "      <th></th>\n",
       "    </tr>\n",
       "  </thead>\n",
       "  <tbody>\n",
       "    <tr>\n",
       "      <td>PS3</td>\n",
       "      <td>293.73</td>\n",
       "      <td>74.11</td>\n",
       "      <td>349.13</td>\n",
       "    </tr>\n",
       "    <tr>\n",
       "      <td>X360</td>\n",
       "      <td>234.88</td>\n",
       "      <td>9.30</td>\n",
       "      <td>490.69</td>\n",
       "    </tr>\n",
       "    <tr>\n",
       "      <td>Wii</td>\n",
       "      <td>170.74</td>\n",
       "      <td>47.01</td>\n",
       "      <td>332.87</td>\n",
       "    </tr>\n",
       "    <tr>\n",
       "      <td>PS4</td>\n",
       "      <td>141.09</td>\n",
       "      <td>15.96</td>\n",
       "      <td>108.74</td>\n",
       "    </tr>\n",
       "    <tr>\n",
       "      <td>PC</td>\n",
       "      <td>92.17</td>\n",
       "      <td>0.00</td>\n",
       "      <td>41.07</td>\n",
       "    </tr>\n",
       "  </tbody>\n",
       "</table>\n",
       "</div>"
      ],
      "text/plain": [
       "          eu_sales  jp_sales  na_sales\n",
       "platform                              \n",
       "PS3         293.73     74.11    349.13\n",
       "X360        234.88      9.30    490.69\n",
       "Wii         170.74     47.01    332.87\n",
       "PS4         141.09     15.96    108.74\n",
       "PC           92.17      0.00     41.07"
      ]
     },
     "execution_count": 34,
     "metadata": {},
     "output_type": "execute_result"
    }
   ],
   "source": [
    "# eu next\n",
    "pop_platform_reg.sort_values(by='eu_sales', ascending=False).head()"
   ]
  },
  {
   "cell_type": "code",
   "execution_count": 35,
   "metadata": {},
   "outputs": [
    {
     "data": {
      "text/html": [
       "<div>\n",
       "<style scoped>\n",
       "    .dataframe tbody tr th:only-of-type {\n",
       "        vertical-align: middle;\n",
       "    }\n",
       "\n",
       "    .dataframe tbody tr th {\n",
       "        vertical-align: top;\n",
       "    }\n",
       "\n",
       "    .dataframe thead th {\n",
       "        text-align: right;\n",
       "    }\n",
       "</style>\n",
       "<table border=\"1\" class=\"dataframe\">\n",
       "  <thead>\n",
       "    <tr style=\"text-align: right;\">\n",
       "      <th></th>\n",
       "      <th>eu_sales</th>\n",
       "      <th>jp_sales</th>\n",
       "      <th>na_sales</th>\n",
       "    </tr>\n",
       "    <tr>\n",
       "      <th>platform</th>\n",
       "      <th></th>\n",
       "      <th></th>\n",
       "      <th></th>\n",
       "    </tr>\n",
       "  </thead>\n",
       "  <tbody>\n",
       "    <tr>\n",
       "      <td>3DS</td>\n",
       "      <td>61.27</td>\n",
       "      <td>100.62</td>\n",
       "      <td>82.65</td>\n",
       "    </tr>\n",
       "    <tr>\n",
       "      <td>DS</td>\n",
       "      <td>86.13</td>\n",
       "      <td>76.12</td>\n",
       "      <td>198.73</td>\n",
       "    </tr>\n",
       "    <tr>\n",
       "      <td>PS3</td>\n",
       "      <td>293.73</td>\n",
       "      <td>74.11</td>\n",
       "      <td>349.13</td>\n",
       "    </tr>\n",
       "    <tr>\n",
       "      <td>PSP</td>\n",
       "      <td>26.21</td>\n",
       "      <td>60.46</td>\n",
       "      <td>34.04</td>\n",
       "    </tr>\n",
       "    <tr>\n",
       "      <td>Wii</td>\n",
       "      <td>170.74</td>\n",
       "      <td>47.01</td>\n",
       "      <td>332.87</td>\n",
       "    </tr>\n",
       "  </tbody>\n",
       "</table>\n",
       "</div>"
      ],
      "text/plain": [
       "          eu_sales  jp_sales  na_sales\n",
       "platform                              \n",
       "3DS          61.27    100.62     82.65\n",
       "DS           86.13     76.12    198.73\n",
       "PS3         293.73     74.11    349.13\n",
       "PSP          26.21     60.46     34.04\n",
       "Wii         170.74     47.01    332.87"
      ]
     },
     "execution_count": 35,
     "metadata": {},
     "output_type": "execute_result"
    }
   ],
   "source": [
    "# jp last\n",
    "pop_platform_reg.sort_values(by='jp_sales', ascending=False).head()"
   ]
  },
  {
   "cell_type": "markdown",
   "metadata": {},
   "source": [
    "The top 5 platforms for NA are X360, PS3, Wii, DS, and PS4. This list is almost the same though slightly reordered for the EU - the only difference is that the DS is swapped for PC. JP has the most interesting top 5 where portable gaming platforms seem to be much more popular. The 3DS and DS are the top selling platforms, with the PS3 and Wii also making the list. The PSP makes the top 5 here as well. \n",
    "<br><br>\n",
    "Let's look at the genres next."
   ]
  },
  {
   "cell_type": "markdown",
   "metadata": {},
   "source": [
    "### Popular Genre"
   ]
  },
  {
   "cell_type": "code",
   "execution_count": 36,
   "metadata": {},
   "outputs": [
    {
     "data": {
      "text/html": [
       "<div>\n",
       "<style scoped>\n",
       "    .dataframe tbody tr th:only-of-type {\n",
       "        vertical-align: middle;\n",
       "    }\n",
       "\n",
       "    .dataframe tbody tr th {\n",
       "        vertical-align: top;\n",
       "    }\n",
       "\n",
       "    .dataframe thead th {\n",
       "        text-align: right;\n",
       "    }\n",
       "</style>\n",
       "<table border=\"1\" class=\"dataframe\">\n",
       "  <thead>\n",
       "    <tr style=\"text-align: right;\">\n",
       "      <th></th>\n",
       "      <th>eu_sales</th>\n",
       "      <th>jp_sales</th>\n",
       "      <th>na_sales</th>\n",
       "    </tr>\n",
       "    <tr>\n",
       "      <th>genre</th>\n",
       "      <th></th>\n",
       "      <th></th>\n",
       "      <th></th>\n",
       "    </tr>\n",
       "  </thead>\n",
       "  <tbody>\n",
       "    <tr>\n",
       "      <td>Action</td>\n",
       "      <td>310.59</td>\n",
       "      <td>90.16</td>\n",
       "      <td>433.74</td>\n",
       "    </tr>\n",
       "    <tr>\n",
       "      <td>Shooter</td>\n",
       "      <td>208.35</td>\n",
       "      <td>15.93</td>\n",
       "      <td>311.26</td>\n",
       "    </tr>\n",
       "    <tr>\n",
       "      <td>Sports</td>\n",
       "      <td>185.19</td>\n",
       "      <td>30.69</td>\n",
       "      <td>276.27</td>\n",
       "    </tr>\n",
       "    <tr>\n",
       "      <td>Misc</td>\n",
       "      <td>107.00</td>\n",
       "      <td>37.33</td>\n",
       "      <td>211.61</td>\n",
       "    </tr>\n",
       "    <tr>\n",
       "      <td>Role-Playing</td>\n",
       "      <td>94.46</td>\n",
       "      <td>138.12</td>\n",
       "      <td>155.81</td>\n",
       "    </tr>\n",
       "  </tbody>\n",
       "</table>\n",
       "</div>"
      ],
      "text/plain": [
       "              eu_sales  jp_sales  na_sales\n",
       "genre                                     \n",
       "Action          310.59     90.16    433.74\n",
       "Shooter         208.35     15.93    311.26\n",
       "Sports          185.19     30.69    276.27\n",
       "Misc            107.00     37.33    211.61\n",
       "Role-Playing     94.46    138.12    155.81"
      ]
     },
     "execution_count": 36,
     "metadata": {},
     "output_type": "execute_result"
    }
   ],
   "source": [
    "pop_genre_reg = pd.pivot_table(\n",
    "                    game_data,\n",
    "                    index='genre',\n",
    "                    values=['na_sales', 'eu_sales', 'jp_sales'],\n",
    "                    aggfunc='sum'\n",
    "                )\n",
    "# na first\n",
    "pop_genre_reg.sort_values(by='na_sales', ascending=False).head()"
   ]
  },
  {
   "cell_type": "code",
   "execution_count": 37,
   "metadata": {},
   "outputs": [
    {
     "data": {
      "text/html": [
       "<div>\n",
       "<style scoped>\n",
       "    .dataframe tbody tr th:only-of-type {\n",
       "        vertical-align: middle;\n",
       "    }\n",
       "\n",
       "    .dataframe tbody tr th {\n",
       "        vertical-align: top;\n",
       "    }\n",
       "\n",
       "    .dataframe thead th {\n",
       "        text-align: right;\n",
       "    }\n",
       "</style>\n",
       "<table border=\"1\" class=\"dataframe\">\n",
       "  <thead>\n",
       "    <tr style=\"text-align: right;\">\n",
       "      <th></th>\n",
       "      <th>eu_sales</th>\n",
       "      <th>jp_sales</th>\n",
       "      <th>na_sales</th>\n",
       "    </tr>\n",
       "    <tr>\n",
       "      <th>genre</th>\n",
       "      <th></th>\n",
       "      <th></th>\n",
       "      <th></th>\n",
       "    </tr>\n",
       "  </thead>\n",
       "  <tbody>\n",
       "    <tr>\n",
       "      <td>Action</td>\n",
       "      <td>310.59</td>\n",
       "      <td>90.16</td>\n",
       "      <td>433.74</td>\n",
       "    </tr>\n",
       "    <tr>\n",
       "      <td>Shooter</td>\n",
       "      <td>208.35</td>\n",
       "      <td>15.93</td>\n",
       "      <td>311.26</td>\n",
       "    </tr>\n",
       "    <tr>\n",
       "      <td>Sports</td>\n",
       "      <td>185.19</td>\n",
       "      <td>30.69</td>\n",
       "      <td>276.27</td>\n",
       "    </tr>\n",
       "    <tr>\n",
       "      <td>Misc</td>\n",
       "      <td>107.00</td>\n",
       "      <td>37.33</td>\n",
       "      <td>211.61</td>\n",
       "    </tr>\n",
       "    <tr>\n",
       "      <td>Role-Playing</td>\n",
       "      <td>94.46</td>\n",
       "      <td>138.12</td>\n",
       "      <td>155.81</td>\n",
       "    </tr>\n",
       "  </tbody>\n",
       "</table>\n",
       "</div>"
      ],
      "text/plain": [
       "              eu_sales  jp_sales  na_sales\n",
       "genre                                     \n",
       "Action          310.59     90.16    433.74\n",
       "Shooter         208.35     15.93    311.26\n",
       "Sports          185.19     30.69    276.27\n",
       "Misc            107.00     37.33    211.61\n",
       "Role-Playing     94.46    138.12    155.81"
      ]
     },
     "execution_count": 37,
     "metadata": {},
     "output_type": "execute_result"
    }
   ],
   "source": [
    "# eu next\n",
    "pop_genre_reg.sort_values(by='eu_sales', ascending=False).head()"
   ]
  },
  {
   "cell_type": "code",
   "execution_count": 38,
   "metadata": {},
   "outputs": [
    {
     "data": {
      "text/html": [
       "<div>\n",
       "<style scoped>\n",
       "    .dataframe tbody tr th:only-of-type {\n",
       "        vertical-align: middle;\n",
       "    }\n",
       "\n",
       "    .dataframe tbody tr th {\n",
       "        vertical-align: top;\n",
       "    }\n",
       "\n",
       "    .dataframe thead th {\n",
       "        text-align: right;\n",
       "    }\n",
       "</style>\n",
       "<table border=\"1\" class=\"dataframe\">\n",
       "  <thead>\n",
       "    <tr style=\"text-align: right;\">\n",
       "      <th></th>\n",
       "      <th>eu_sales</th>\n",
       "      <th>jp_sales</th>\n",
       "      <th>na_sales</th>\n",
       "    </tr>\n",
       "    <tr>\n",
       "      <th>genre</th>\n",
       "      <th></th>\n",
       "      <th></th>\n",
       "      <th></th>\n",
       "    </tr>\n",
       "  </thead>\n",
       "  <tbody>\n",
       "    <tr>\n",
       "      <td>Role-Playing</td>\n",
       "      <td>94.46</td>\n",
       "      <td>138.12</td>\n",
       "      <td>155.81</td>\n",
       "    </tr>\n",
       "    <tr>\n",
       "      <td>Action</td>\n",
       "      <td>310.59</td>\n",
       "      <td>90.16</td>\n",
       "      <td>433.74</td>\n",
       "    </tr>\n",
       "    <tr>\n",
       "      <td>Misc</td>\n",
       "      <td>107.00</td>\n",
       "      <td>37.33</td>\n",
       "      <td>211.61</td>\n",
       "    </tr>\n",
       "    <tr>\n",
       "      <td>Sports</td>\n",
       "      <td>185.19</td>\n",
       "      <td>30.69</td>\n",
       "      <td>276.27</td>\n",
       "    </tr>\n",
       "    <tr>\n",
       "      <td>Adventure</td>\n",
       "      <td>29.87</td>\n",
       "      <td>23.36</td>\n",
       "      <td>43.52</td>\n",
       "    </tr>\n",
       "  </tbody>\n",
       "</table>\n",
       "</div>"
      ],
      "text/plain": [
       "              eu_sales  jp_sales  na_sales\n",
       "genre                                     \n",
       "Role-Playing     94.46    138.12    155.81\n",
       "Action          310.59     90.16    433.74\n",
       "Misc            107.00     37.33    211.61\n",
       "Sports          185.19     30.69    276.27\n",
       "Adventure        29.87     23.36     43.52"
      ]
     },
     "execution_count": 38,
     "metadata": {},
     "output_type": "execute_result"
    }
   ],
   "source": [
    "# jp last\n",
    "pop_genre_reg.sort_values(by='jp_sales', ascending=False).head()"
   ]
  },
  {
   "cell_type": "markdown",
   "metadata": {},
   "source": [
    "NA and EU have the exact same breakdown with Action first, then Shooter, Sports, Misc, and Role-Playing. JP is the only region with a different rank though with most of the same genres. It's top 5 are Role-Playing, Action, Misc, Sports, and Adventure taking the fifth spot. \n",
    "<br><br>\n",
    "The last feature I would like to look at here is the effect that the ESRB rating could have on sales per region."
   ]
  },
  {
   "cell_type": "markdown",
   "metadata": {},
   "source": [
    "### ESRB Rating"
   ]
  },
  {
   "cell_type": "code",
   "execution_count": 39,
   "metadata": {},
   "outputs": [
    {
     "data": {
      "text/html": [
       "<div>\n",
       "<style scoped>\n",
       "    .dataframe tbody tr th:only-of-type {\n",
       "        vertical-align: middle;\n",
       "    }\n",
       "\n",
       "    .dataframe tbody tr th {\n",
       "        vertical-align: top;\n",
       "    }\n",
       "\n",
       "    .dataframe thead th {\n",
       "        text-align: right;\n",
       "    }\n",
       "</style>\n",
       "<table border=\"1\" class=\"dataframe\">\n",
       "  <thead>\n",
       "    <tr style=\"text-align: right;\">\n",
       "      <th></th>\n",
       "      <th>eu_sales</th>\n",
       "      <th>jp_sales</th>\n",
       "      <th>na_sales</th>\n",
       "    </tr>\n",
       "    <tr>\n",
       "      <th>rating</th>\n",
       "      <th></th>\n",
       "      <th></th>\n",
       "      <th></th>\n",
       "    </tr>\n",
       "  </thead>\n",
       "  <tbody>\n",
       "    <tr>\n",
       "      <td>E</td>\n",
       "      <td>326.61</td>\n",
       "      <td>77.17</td>\n",
       "      <td>536.93</td>\n",
       "    </tr>\n",
       "    <tr>\n",
       "      <td>M</td>\n",
       "      <td>362.65</td>\n",
       "      <td>39.33</td>\n",
       "      <td>502.60</td>\n",
       "    </tr>\n",
       "    <tr>\n",
       "      <td>T</td>\n",
       "      <td>187.62</td>\n",
       "      <td>64.51</td>\n",
       "      <td>303.41</td>\n",
       "    </tr>\n",
       "    <tr>\n",
       "      <td>E10+</td>\n",
       "      <td>144.53</td>\n",
       "      <td>25.67</td>\n",
       "      <td>251.88</td>\n",
       "    </tr>\n",
       "    <tr>\n",
       "      <td>unknown</td>\n",
       "      <td>188.85</td>\n",
       "      <td>220.60</td>\n",
       "      <td>218.51</td>\n",
       "    </tr>\n",
       "    <tr>\n",
       "      <td>EC</td>\n",
       "      <td>0.00</td>\n",
       "      <td>0.00</td>\n",
       "      <td>1.32</td>\n",
       "    </tr>\n",
       "    <tr>\n",
       "      <td>RP</td>\n",
       "      <td>0.03</td>\n",
       "      <td>0.00</td>\n",
       "      <td>0.00</td>\n",
       "    </tr>\n",
       "  </tbody>\n",
       "</table>\n",
       "</div>"
      ],
      "text/plain": [
       "         eu_sales  jp_sales  na_sales\n",
       "rating                               \n",
       "E          326.61     77.17    536.93\n",
       "M          362.65     39.33    502.60\n",
       "T          187.62     64.51    303.41\n",
       "E10+       144.53     25.67    251.88\n",
       "unknown    188.85    220.60    218.51\n",
       "EC           0.00      0.00      1.32\n",
       "RP           0.03      0.00      0.00"
      ]
     },
     "execution_count": 39,
     "metadata": {},
     "output_type": "execute_result"
    }
   ],
   "source": [
    "esrb_reg = pd.pivot_table(\n",
    "                game_data,\n",
    "                index='rating',\n",
    "                values=['na_sales', 'eu_sales', 'jp_sales'],\n",
    "                aggfunc='sum'\n",
    "           )\n",
    "\n",
    "# na first\n",
    "esrb_reg.sort_values(by='na_sales', ascending=False)"
   ]
  },
  {
   "cell_type": "code",
   "execution_count": 40,
   "metadata": {},
   "outputs": [
    {
     "data": {
      "text/html": [
       "<div>\n",
       "<style scoped>\n",
       "    .dataframe tbody tr th:only-of-type {\n",
       "        vertical-align: middle;\n",
       "    }\n",
       "\n",
       "    .dataframe tbody tr th {\n",
       "        vertical-align: top;\n",
       "    }\n",
       "\n",
       "    .dataframe thead th {\n",
       "        text-align: right;\n",
       "    }\n",
       "</style>\n",
       "<table border=\"1\" class=\"dataframe\">\n",
       "  <thead>\n",
       "    <tr style=\"text-align: right;\">\n",
       "      <th></th>\n",
       "      <th>eu_sales</th>\n",
       "      <th>jp_sales</th>\n",
       "      <th>na_sales</th>\n",
       "    </tr>\n",
       "    <tr>\n",
       "      <th>rating</th>\n",
       "      <th></th>\n",
       "      <th></th>\n",
       "      <th></th>\n",
       "    </tr>\n",
       "  </thead>\n",
       "  <tbody>\n",
       "    <tr>\n",
       "      <td>M</td>\n",
       "      <td>362.65</td>\n",
       "      <td>39.33</td>\n",
       "      <td>502.60</td>\n",
       "    </tr>\n",
       "    <tr>\n",
       "      <td>E</td>\n",
       "      <td>326.61</td>\n",
       "      <td>77.17</td>\n",
       "      <td>536.93</td>\n",
       "    </tr>\n",
       "    <tr>\n",
       "      <td>unknown</td>\n",
       "      <td>188.85</td>\n",
       "      <td>220.60</td>\n",
       "      <td>218.51</td>\n",
       "    </tr>\n",
       "    <tr>\n",
       "      <td>T</td>\n",
       "      <td>187.62</td>\n",
       "      <td>64.51</td>\n",
       "      <td>303.41</td>\n",
       "    </tr>\n",
       "    <tr>\n",
       "      <td>E10+</td>\n",
       "      <td>144.53</td>\n",
       "      <td>25.67</td>\n",
       "      <td>251.88</td>\n",
       "    </tr>\n",
       "    <tr>\n",
       "      <td>RP</td>\n",
       "      <td>0.03</td>\n",
       "      <td>0.00</td>\n",
       "      <td>0.00</td>\n",
       "    </tr>\n",
       "    <tr>\n",
       "      <td>EC</td>\n",
       "      <td>0.00</td>\n",
       "      <td>0.00</td>\n",
       "      <td>1.32</td>\n",
       "    </tr>\n",
       "  </tbody>\n",
       "</table>\n",
       "</div>"
      ],
      "text/plain": [
       "         eu_sales  jp_sales  na_sales\n",
       "rating                               \n",
       "M          362.65     39.33    502.60\n",
       "E          326.61     77.17    536.93\n",
       "unknown    188.85    220.60    218.51\n",
       "T          187.62     64.51    303.41\n",
       "E10+       144.53     25.67    251.88\n",
       "RP           0.03      0.00      0.00\n",
       "EC           0.00      0.00      1.32"
      ]
     },
     "execution_count": 40,
     "metadata": {},
     "output_type": "execute_result"
    }
   ],
   "source": [
    "# eu next\n",
    "esrb_reg.sort_values(by='eu_sales', ascending=False)"
   ]
  },
  {
   "cell_type": "code",
   "execution_count": 41,
   "metadata": {},
   "outputs": [
    {
     "data": {
      "text/html": [
       "<div>\n",
       "<style scoped>\n",
       "    .dataframe tbody tr th:only-of-type {\n",
       "        vertical-align: middle;\n",
       "    }\n",
       "\n",
       "    .dataframe tbody tr th {\n",
       "        vertical-align: top;\n",
       "    }\n",
       "\n",
       "    .dataframe thead th {\n",
       "        text-align: right;\n",
       "    }\n",
       "</style>\n",
       "<table border=\"1\" class=\"dataframe\">\n",
       "  <thead>\n",
       "    <tr style=\"text-align: right;\">\n",
       "      <th></th>\n",
       "      <th>eu_sales</th>\n",
       "      <th>jp_sales</th>\n",
       "      <th>na_sales</th>\n",
       "    </tr>\n",
       "    <tr>\n",
       "      <th>rating</th>\n",
       "      <th></th>\n",
       "      <th></th>\n",
       "      <th></th>\n",
       "    </tr>\n",
       "  </thead>\n",
       "  <tbody>\n",
       "    <tr>\n",
       "      <td>unknown</td>\n",
       "      <td>188.85</td>\n",
       "      <td>220.60</td>\n",
       "      <td>218.51</td>\n",
       "    </tr>\n",
       "    <tr>\n",
       "      <td>E</td>\n",
       "      <td>326.61</td>\n",
       "      <td>77.17</td>\n",
       "      <td>536.93</td>\n",
       "    </tr>\n",
       "    <tr>\n",
       "      <td>T</td>\n",
       "      <td>187.62</td>\n",
       "      <td>64.51</td>\n",
       "      <td>303.41</td>\n",
       "    </tr>\n",
       "    <tr>\n",
       "      <td>M</td>\n",
       "      <td>362.65</td>\n",
       "      <td>39.33</td>\n",
       "      <td>502.60</td>\n",
       "    </tr>\n",
       "    <tr>\n",
       "      <td>E10+</td>\n",
       "      <td>144.53</td>\n",
       "      <td>25.67</td>\n",
       "      <td>251.88</td>\n",
       "    </tr>\n",
       "    <tr>\n",
       "      <td>EC</td>\n",
       "      <td>0.00</td>\n",
       "      <td>0.00</td>\n",
       "      <td>1.32</td>\n",
       "    </tr>\n",
       "    <tr>\n",
       "      <td>RP</td>\n",
       "      <td>0.03</td>\n",
       "      <td>0.00</td>\n",
       "      <td>0.00</td>\n",
       "    </tr>\n",
       "  </tbody>\n",
       "</table>\n",
       "</div>"
      ],
      "text/plain": [
       "         eu_sales  jp_sales  na_sales\n",
       "rating                               \n",
       "unknown    188.85    220.60    218.51\n",
       "E          326.61     77.17    536.93\n",
       "T          187.62     64.51    303.41\n",
       "M          362.65     39.33    502.60\n",
       "E10+       144.53     25.67    251.88\n",
       "EC           0.00      0.00      1.32\n",
       "RP           0.03      0.00      0.00"
      ]
     },
     "execution_count": 41,
     "metadata": {},
     "output_type": "execute_result"
    }
   ],
   "source": [
    "# jp last\n",
    "esrb_reg.sort_values(by='jp_sales', ascending=False)"
   ]
  },
  {
   "cell_type": "markdown",
   "metadata": {},
   "source": [
    "This is the first time that all three regions had the same top 5, albeit in very different orders. E and M receive fairly equivalent sales in all three regions, though the \"unknown\" rating appears to be the clear winner in JP. \"Unknown\" does also appear in the NA and EU lists and does similarly well in all three regions. I think we can see that the ESRB rating does appear to impact the sale of a game. It may be best to focus our marketing efforts in games rated E, M, and unknown. "
   ]
  },
  {
   "cell_type": "markdown",
   "metadata": {},
   "source": [
    "## Hypothesis Testing"
   ]
  },
  {
   "cell_type": "markdown",
   "metadata": {},
   "source": [
    "We will start with our null hypothesis: The average user score of the Xbox One and PC platforms are the same. Our alternative hypothesis would then be: The average user score of the Xbox One and PC platforms differ. We will test this by looking at the p-value, set to 0.05 (or 5 percent), and applying a single sample T-test using scipy."
   ]
  },
  {
   "cell_type": "code",
   "execution_count": 42,
   "metadata": {},
   "outputs": [
    {
     "name": "stdout",
     "output_type": "stream",
     "text": [
      "4.805263 5.225831\n"
     ]
    }
   ],
   "source": [
    "xone_uscore = game_data.groupby('platform')['user_score'].get_group('XOne')\n",
    "pc_uscore = game_data.groupby('platform')['user_score'].get_group('PC')\n",
    "\n",
    "print(xone_uscore.mean(), pc_uscore.mean())"
   ]
  },
  {
   "cell_type": "code",
   "execution_count": 43,
   "metadata": {},
   "outputs": [
    {
     "name": "stdout",
     "output_type": "stream",
     "text": [
      "pvalue:  0.06979802970939326\n",
      "alpha:  0.05\n",
      "We cannot reject the null hypothesis\n"
     ]
    }
   ],
   "source": [
    "import scipy.stats as st\n",
    "\n",
    "alpha = 0.05\n",
    "results = st.ttest_ind(xone_uscore, pc_uscore)\n",
    "\n",
    "print('pvalue: ', results.pvalue)\n",
    "print('alpha: ', alpha)\n",
    "if results.pvalue < alpha:\n",
    "    print('We reject the null hypothesis')\n",
    "else:\n",
    "    print('We cannot reject the null hypothesis')"
   ]
  },
  {
   "cell_type": "markdown",
   "metadata": {},
   "source": [
    "The above test resulted in a pvalue greater than our alpha, meaning we cannot reject the null hypothesis. Therefore, the average user scores for XOne and PC games are the same. The above means seem to lead to this conclusion as well. They are different, with PC having a slightly higher average than XOne, but not by much (less than half of a point on a scale of 1 to 10). "
   ]
  },
  {
   "cell_type": "markdown",
   "metadata": {},
   "source": [
    "Next we will test another hypothesis. Our null hypothesis will be: The average user score for the Action and Sports genres are the same. Our alternative hypothesis would then be: The average user score for the Action and Sports genres are different. We will test this by looking at the p-value, set to 0.05 (or 5 percent), and applying a single sample T-test using scipy."
   ]
  },
  {
   "cell_type": "code",
   "execution_count": 44,
   "metadata": {},
   "outputs": [
    {
     "name": "stdout",
     "output_type": "stream",
     "text": [
      "3.723743 3.231211\n"
     ]
    }
   ],
   "source": [
    "action_uscore = game_data.groupby('genre')['user_score'].get_group('Action')\n",
    "sports_uscore = game_data.groupby('genre')['user_score'].get_group('Sports')\n",
    "\n",
    "print(action_uscore.mean(), sports_uscore.mean())"
   ]
  },
  {
   "cell_type": "code",
   "execution_count": 45,
   "metadata": {},
   "outputs": [
    {
     "name": "stdout",
     "output_type": "stream",
     "text": [
      "pvalue:  0.0003354374031217955\n",
      "alpha:  0.05\n",
      "We reject the null hypothesis\n"
     ]
    }
   ],
   "source": [
    "alpha = 0.05\n",
    "results = st.ttest_ind(action_uscore, sports_uscore)\n",
    "\n",
    "print('pvalue: ', results.pvalue)\n",
    "print('alpha: ', alpha)\n",
    "if results.pvalue < alpha:\n",
    "    print('We reject the null hypothesis')\n",
    "else:\n",
    "    print('We cannot reject the null hypothesis')"
   ]
  },
  {
   "cell_type": "markdown",
   "metadata": {},
   "source": [
    "The above test resulted in a pvalue much less than our alpha, meaning we can reject the null hypothesis and accept the alternative: The average user score for the Action and Sports genres are different. We also see this in the mean values above, with Action games ranking higher than Sports. It is interesting to note that the amount is roughly the same as our first hypothesis (roughly half of a point) though the result of the t-test is different."
   ]
  },
  {
   "cell_type": "markdown",
   "metadata": {},
   "source": [
    "# Conclusion"
   ]
  },
  {
   "cell_type": "markdown",
   "metadata": {},
   "source": [
    "From our study of this game data, we were able to learn the most popular features to target our marketing campaigns on future titles. Potential big sellers in 2017 would have these features in common:\n",
    "- Genre: Action, Sports, Shooter\n",
    "- Platform: PS4, XOne, PS3, X360, Wii\n",
    "- ESRB Rating: E, M, unknown\n",
    "- Higher Critic Score (80+)\n",
    "\n",
    "If we target games matching these features, we will use our marketing campaign money most effectively. "
   ]
  }
 ],
 "metadata": {
  "ExecuteTimeLog": [
   {
    "duration": 882,
    "start_time": "2021-10-14T19:33:30.072Z"
   },
   {
    "duration": 7,
    "start_time": "2021-10-14T19:34:37.392Z"
   },
   {
    "duration": 37,
    "start_time": "2021-10-14T19:39:34.302Z"
   },
   {
    "duration": 32,
    "start_time": "2021-10-14T19:40:01.468Z"
   },
   {
    "duration": 31,
    "start_time": "2021-10-14T19:40:14.796Z"
   },
   {
    "duration": 23,
    "start_time": "2021-10-14T19:44:28.710Z"
   },
   {
    "duration": 35,
    "start_time": "2021-10-14T19:44:54.965Z"
   },
   {
    "duration": 24,
    "start_time": "2021-10-14T19:47:06.637Z"
   },
   {
    "duration": 40,
    "start_time": "2021-10-14T19:56:10.398Z"
   },
   {
    "duration": 402,
    "start_time": "2021-10-14T20:42:29.870Z"
   },
   {
    "duration": 87,
    "start_time": "2021-10-14T20:43:01.173Z"
   },
   {
    "duration": 1085,
    "start_time": "2021-10-14T20:45:29.070Z"
   },
   {
    "duration": 76,
    "start_time": "2021-10-14T23:01:58.929Z"
   },
   {
    "duration": 6,
    "start_time": "2021-10-14T23:01:59.008Z"
   },
   {
    "duration": 91,
    "start_time": "2021-10-14T23:01:59.018Z"
   },
   {
    "duration": 32,
    "start_time": "2021-10-14T23:01:59.111Z"
   },
   {
    "duration": 67,
    "start_time": "2021-10-14T23:01:59.145Z"
   },
   {
    "duration": 5,
    "start_time": "2021-10-14T23:05:47.672Z"
   },
   {
    "duration": 26,
    "start_time": "2021-10-14T23:08:01.439Z"
   },
   {
    "duration": 42,
    "start_time": "2021-10-14T23:08:28.563Z"
   },
   {
    "duration": 306,
    "start_time": "2021-10-14T23:12:08.561Z"
   },
   {
    "duration": 328,
    "start_time": "2021-10-14T23:12:25.697Z"
   },
   {
    "duration": 337,
    "start_time": "2021-10-14T23:13:11.435Z"
   },
   {
    "duration": 337,
    "start_time": "2021-10-15T01:58:04.232Z"
   },
   {
    "duration": 809,
    "start_time": "2021-10-15T01:58:20.928Z"
   },
   {
    "duration": 6,
    "start_time": "2021-10-15T01:58:21.740Z"
   },
   {
    "duration": 32,
    "start_time": "2021-10-15T01:58:21.749Z"
   },
   {
    "duration": 63,
    "start_time": "2021-10-15T01:58:21.784Z"
   },
   {
    "duration": 40,
    "start_time": "2021-10-15T01:58:21.850Z"
   },
   {
    "duration": 49,
    "start_time": "2021-10-15T01:58:21.893Z"
   },
   {
    "duration": 15,
    "start_time": "2021-10-15T02:03:20.492Z"
   },
   {
    "duration": 13,
    "start_time": "2021-10-15T02:03:42.030Z"
   },
   {
    "duration": 14,
    "start_time": "2021-10-15T02:03:56.089Z"
   },
   {
    "duration": 34,
    "start_time": "2021-10-15T02:05:39.783Z"
   },
   {
    "duration": 307,
    "start_time": "2021-10-15T02:06:25.837Z"
   },
   {
    "duration": 9269,
    "start_time": "2021-10-15T02:06:36.254Z"
   },
   {
    "duration": 37,
    "start_time": "2021-10-15T02:06:49.533Z"
   },
   {
    "duration": 26,
    "start_time": "2021-10-15T02:07:54.873Z"
   },
   {
    "duration": 26,
    "start_time": "2021-10-15T02:09:36.755Z"
   },
   {
    "duration": 294,
    "start_time": "2021-10-15T02:15:09.654Z"
   },
   {
    "duration": 299,
    "start_time": "2021-10-15T02:15:32.060Z"
   },
   {
    "duration": 279,
    "start_time": "2021-10-15T02:15:53.773Z"
   },
   {
    "duration": 193,
    "start_time": "2021-10-15T02:17:30.000Z"
   },
   {
    "duration": 6,
    "start_time": "2021-10-15T02:21:09.967Z"
   },
   {
    "duration": 264,
    "start_time": "2021-10-15T02:25:49.658Z"
   },
   {
    "duration": 13,
    "start_time": "2021-10-15T02:25:55.298Z"
   },
   {
    "duration": 14,
    "start_time": "2021-10-15T02:26:12.485Z"
   },
   {
    "duration": 93,
    "start_time": "2021-10-15T02:27:55.875Z"
   },
   {
    "duration": 69,
    "start_time": "2021-10-15T02:28:24.748Z"
   },
   {
    "duration": 7,
    "start_time": "2021-10-15T02:41:35.272Z"
   },
   {
    "duration": 7,
    "start_time": "2021-10-15T02:41:44.396Z"
   },
   {
    "duration": 7,
    "start_time": "2021-10-15T02:41:53.661Z"
   },
   {
    "duration": 95,
    "start_time": "2021-10-15T02:46:13.617Z"
   },
   {
    "duration": 86,
    "start_time": "2021-10-15T02:46:19.901Z"
   },
   {
    "duration": 8,
    "start_time": "2021-10-15T02:46:51.590Z"
   },
   {
    "duration": 27,
    "start_time": "2021-10-15T02:47:12.902Z"
   },
   {
    "duration": 24,
    "start_time": "2021-10-15T02:48:50.357Z"
   },
   {
    "duration": 14,
    "start_time": "2021-10-15T02:49:52.879Z"
   },
   {
    "duration": 6,
    "start_time": "2021-10-15T02:52:41.600Z"
   },
   {
    "duration": 270,
    "start_time": "2021-10-15T02:53:35.796Z"
   },
   {
    "duration": 7,
    "start_time": "2021-10-15T02:53:43.497Z"
   },
   {
    "duration": 345,
    "start_time": "2021-10-15T03:07:41.621Z"
   },
   {
    "duration": 263,
    "start_time": "2021-10-15T03:07:48.920Z"
   },
   {
    "duration": 531,
    "start_time": "2021-10-15T03:08:04.738Z"
   },
   {
    "duration": 597,
    "start_time": "2021-10-15T03:08:10.855Z"
   },
   {
    "duration": 6,
    "start_time": "2021-10-15T03:08:23.607Z"
   },
   {
    "duration": 11,
    "start_time": "2021-10-15T03:12:18.468Z"
   },
   {
    "duration": 270,
    "start_time": "2021-10-15T03:12:35.373Z"
   },
   {
    "duration": 11,
    "start_time": "2021-10-15T03:12:41.838Z"
   },
   {
    "duration": 16,
    "start_time": "2021-10-15T03:13:18.174Z"
   },
   {
    "duration": 18,
    "start_time": "2021-10-15T03:13:47.180Z"
   },
   {
    "duration": 15,
    "start_time": "2021-10-15T03:13:56.044Z"
   },
   {
    "duration": 24,
    "start_time": "2021-10-15T03:14:25.510Z"
   },
   {
    "duration": 22,
    "start_time": "2021-10-15T03:17:28.811Z"
   },
   {
    "duration": 23,
    "start_time": "2021-10-15T03:20:03.570Z"
   },
   {
    "duration": 8,
    "start_time": "2021-10-15T03:26:39.067Z"
   },
   {
    "duration": 7,
    "start_time": "2021-10-15T03:26:47.677Z"
   },
   {
    "duration": 14,
    "start_time": "2021-10-15T03:29:32.613Z"
   },
   {
    "duration": 19,
    "start_time": "2021-10-15T03:29:52.499Z"
   },
   {
    "duration": 274,
    "start_time": "2021-10-15T03:34:45.725Z"
   },
   {
    "duration": 7,
    "start_time": "2021-10-15T03:35:02.816Z"
   },
   {
    "duration": 7,
    "start_time": "2021-10-15T03:35:22.094Z"
   },
   {
    "duration": 8,
    "start_time": "2021-10-15T03:37:16.628Z"
   },
   {
    "duration": 7,
    "start_time": "2021-10-15T03:37:31.972Z"
   },
   {
    "duration": 6,
    "start_time": "2021-10-15T03:48:33.013Z"
   },
   {
    "duration": 22,
    "start_time": "2021-10-15T03:48:47.554Z"
   },
   {
    "duration": 22,
    "start_time": "2021-10-15T03:50:25.962Z"
   },
   {
    "duration": 22,
    "start_time": "2021-10-15T03:50:34.078Z"
   },
   {
    "duration": 23,
    "start_time": "2021-10-15T03:51:07.539Z"
   },
   {
    "duration": 21,
    "start_time": "2021-10-15T03:52:02.144Z"
   },
   {
    "duration": 22,
    "start_time": "2021-10-15T03:52:06.507Z"
   },
   {
    "duration": 91,
    "start_time": "2021-10-15T03:54:05.942Z"
   },
   {
    "duration": 23,
    "start_time": "2021-10-15T03:54:21.431Z"
   },
   {
    "duration": 19,
    "start_time": "2021-10-15T03:54:46.083Z"
   },
   {
    "duration": 20,
    "start_time": "2021-10-15T03:54:59.314Z"
   },
   {
    "duration": 21,
    "start_time": "2021-10-15T03:55:04.265Z"
   },
   {
    "duration": 6,
    "start_time": "2021-10-15T03:55:47.545Z"
   },
   {
    "duration": 19,
    "start_time": "2021-10-15T03:56:03.825Z"
   },
   {
    "duration": 22,
    "start_time": "2021-10-15T03:56:37.954Z"
   },
   {
    "duration": 20,
    "start_time": "2021-10-15T03:56:56.354Z"
   },
   {
    "duration": 22,
    "start_time": "2021-10-15T04:00:18.844Z"
   },
   {
    "duration": 24,
    "start_time": "2021-10-15T04:01:42.368Z"
   },
   {
    "duration": 4,
    "start_time": "2021-10-15T04:02:58.582Z"
   },
   {
    "duration": 17,
    "start_time": "2021-10-15T04:03:32.160Z"
   },
   {
    "duration": 79,
    "start_time": "2021-10-15T04:03:52.768Z"
   },
   {
    "duration": 9,
    "start_time": "2021-10-15T04:03:52.851Z"
   },
   {
    "duration": 64,
    "start_time": "2021-10-15T04:03:52.864Z"
   },
   {
    "duration": 35,
    "start_time": "2021-10-15T04:03:52.932Z"
   },
   {
    "duration": 108,
    "start_time": "2021-10-15T04:03:52.970Z"
   },
   {
    "duration": 42,
    "start_time": "2021-10-15T04:03:53.081Z"
   },
   {
    "duration": 21,
    "start_time": "2021-10-15T04:03:53.126Z"
   },
   {
    "duration": 6,
    "start_time": "2021-10-15T04:03:53.150Z"
   },
   {
    "duration": 20,
    "start_time": "2021-10-15T04:03:53.159Z"
   },
   {
    "duration": 60,
    "start_time": "2021-10-15T04:03:53.182Z"
   },
   {
    "duration": 5,
    "start_time": "2021-10-15T04:03:53.244Z"
   },
   {
    "duration": 23,
    "start_time": "2021-10-15T04:03:53.253Z"
   },
   {
    "duration": 45,
    "start_time": "2021-10-15T04:03:53.279Z"
   },
   {
    "duration": 9,
    "start_time": "2021-10-15T04:03:53.327Z"
   },
   {
    "duration": 9,
    "start_time": "2021-10-15T04:03:53.339Z"
   },
   {
    "duration": 26,
    "start_time": "2021-10-15T04:03:53.351Z"
   },
   {
    "duration": 44,
    "start_time": "2021-10-15T04:03:53.380Z"
   },
   {
    "duration": 22,
    "start_time": "2021-10-15T04:03:53.427Z"
   },
   {
    "duration": 659,
    "start_time": "2021-10-15T04:14:30.299Z"
   },
   {
    "duration": 23,
    "start_time": "2021-10-15T04:14:38.419Z"
   },
   {
    "duration": 32,
    "start_time": "2021-10-15T04:14:58.858Z"
   },
   {
    "duration": 29,
    "start_time": "2021-10-15T04:15:06.709Z"
   },
   {
    "duration": 27,
    "start_time": "2021-10-15T04:15:12.511Z"
   },
   {
    "duration": 32,
    "start_time": "2021-10-15T04:15:22.095Z"
   },
   {
    "duration": 22,
    "start_time": "2021-10-15T04:16:44.468Z"
   },
   {
    "duration": 121,
    "start_time": "2021-10-15T04:18:17.105Z"
   },
   {
    "duration": 301,
    "start_time": "2021-10-15T04:18:53.190Z"
   },
   {
    "duration": 307,
    "start_time": "2021-10-15T04:20:20.310Z"
   },
   {
    "duration": 318,
    "start_time": "2021-10-15T04:35:15.119Z"
   },
   {
    "duration": 881,
    "start_time": "2021-10-15T14:29:48.437Z"
   },
   {
    "duration": 5,
    "start_time": "2021-10-15T14:29:49.321Z"
   },
   {
    "duration": 50,
    "start_time": "2021-10-15T14:29:49.329Z"
   },
   {
    "duration": 33,
    "start_time": "2021-10-15T14:29:49.381Z"
   },
   {
    "duration": 100,
    "start_time": "2021-10-15T14:29:49.416Z"
   },
   {
    "duration": 41,
    "start_time": "2021-10-15T14:29:49.518Z"
   },
   {
    "duration": 22,
    "start_time": "2021-10-15T14:29:49.562Z"
   },
   {
    "duration": 6,
    "start_time": "2021-10-15T14:29:49.587Z"
   },
   {
    "duration": 24,
    "start_time": "2021-10-15T14:29:49.595Z"
   },
   {
    "duration": 55,
    "start_time": "2021-10-15T14:29:49.622Z"
   },
   {
    "duration": 6,
    "start_time": "2021-10-15T14:29:49.679Z"
   },
   {
    "duration": 32,
    "start_time": "2021-10-15T14:29:49.687Z"
   },
   {
    "duration": 6,
    "start_time": "2021-10-15T14:29:49.722Z"
   },
   {
    "duration": 6,
    "start_time": "2021-10-15T14:29:49.758Z"
   },
   {
    "duration": 13,
    "start_time": "2021-10-15T14:29:49.766Z"
   },
   {
    "duration": 38,
    "start_time": "2021-10-15T14:29:49.781Z"
   },
   {
    "duration": 3,
    "start_time": "2021-10-15T14:29:49.821Z"
   },
   {
    "duration": 35,
    "start_time": "2021-10-15T14:29:49.826Z"
   },
   {
    "duration": 138,
    "start_time": "2021-10-15T14:29:49.864Z"
   },
   {
    "duration": 337,
    "start_time": "2021-10-15T14:29:50.005Z"
   },
   {
    "duration": 834,
    "start_time": "2021-10-16T17:29:26.363Z"
   },
   {
    "duration": 6,
    "start_time": "2021-10-16T17:29:27.201Z"
   },
   {
    "duration": 34,
    "start_time": "2021-10-16T17:29:27.210Z"
   },
   {
    "duration": 57,
    "start_time": "2021-10-16T17:29:27.246Z"
   },
   {
    "duration": 85,
    "start_time": "2021-10-16T17:29:27.306Z"
   },
   {
    "duration": 27,
    "start_time": "2021-10-16T17:29:27.393Z"
   },
   {
    "duration": 20,
    "start_time": "2021-10-16T17:29:27.423Z"
   },
   {
    "duration": 37,
    "start_time": "2021-10-16T17:29:27.445Z"
   },
   {
    "duration": 21,
    "start_time": "2021-10-16T17:29:27.486Z"
   },
   {
    "duration": 21,
    "start_time": "2021-10-16T17:29:27.510Z"
   },
   {
    "duration": 4,
    "start_time": "2021-10-16T17:29:27.534Z"
   },
   {
    "duration": 59,
    "start_time": "2021-10-16T17:29:27.541Z"
   },
   {
    "duration": 5,
    "start_time": "2021-10-16T17:29:27.603Z"
   },
   {
    "duration": 9,
    "start_time": "2021-10-16T17:29:27.611Z"
   },
   {
    "duration": 13,
    "start_time": "2021-10-16T17:29:27.622Z"
   },
   {
    "duration": 63,
    "start_time": "2021-10-16T17:29:27.637Z"
   },
   {
    "duration": 4,
    "start_time": "2021-10-16T17:29:27.703Z"
   },
   {
    "duration": 19,
    "start_time": "2021-10-16T17:29:27.710Z"
   },
   {
    "duration": 154,
    "start_time": "2021-10-16T17:29:27.732Z"
   },
   {
    "duration": 323,
    "start_time": "2021-10-16T17:29:27.889Z"
   },
   {
    "duration": 854,
    "start_time": "2021-10-16T23:13:13.982Z"
   },
   {
    "duration": 5,
    "start_time": "2021-10-16T23:13:14.839Z"
   },
   {
    "duration": 48,
    "start_time": "2021-10-16T23:13:14.848Z"
   },
   {
    "duration": 33,
    "start_time": "2021-10-16T23:13:14.899Z"
   },
   {
    "duration": 97,
    "start_time": "2021-10-16T23:13:14.935Z"
   },
   {
    "duration": 29,
    "start_time": "2021-10-16T23:13:15.035Z"
   },
   {
    "duration": 23,
    "start_time": "2021-10-16T23:13:15.082Z"
   },
   {
    "duration": 6,
    "start_time": "2021-10-16T23:13:15.109Z"
   },
   {
    "duration": 24,
    "start_time": "2021-10-16T23:13:15.118Z"
   },
   {
    "duration": 55,
    "start_time": "2021-10-16T23:13:15.144Z"
   },
   {
    "duration": 5,
    "start_time": "2021-10-16T23:13:15.201Z"
   },
   {
    "duration": 21,
    "start_time": "2021-10-16T23:13:15.209Z"
   },
   {
    "duration": 6,
    "start_time": "2021-10-16T23:13:15.233Z"
   },
   {
    "duration": 44,
    "start_time": "2021-10-16T23:13:15.241Z"
   },
   {
    "duration": 7,
    "start_time": "2021-10-16T23:13:15.287Z"
   },
   {
    "duration": 22,
    "start_time": "2021-10-16T23:13:15.296Z"
   },
   {
    "duration": 5,
    "start_time": "2021-10-16T23:13:15.320Z"
   },
   {
    "duration": 56,
    "start_time": "2021-10-16T23:13:15.328Z"
   },
   {
    "duration": 128,
    "start_time": "2021-10-16T23:13:15.386Z"
   },
   {
    "duration": 304,
    "start_time": "2021-10-16T23:13:15.516Z"
   },
   {
    "duration": 28,
    "start_time": "2021-10-16T23:15:36.891Z"
   },
   {
    "duration": 29,
    "start_time": "2021-10-16T23:15:57.030Z"
   },
   {
    "duration": 380,
    "start_time": "2021-10-16T23:16:11.464Z"
   },
   {
    "duration": 245,
    "start_time": "2021-10-16T23:16:19.587Z"
   },
   {
    "duration": 26,
    "start_time": "2021-10-16T23:16:27.954Z"
   },
   {
    "duration": 235,
    "start_time": "2021-10-16T23:19:13.282Z"
   },
   {
    "duration": 22,
    "start_time": "2021-10-16T23:20:39.976Z"
   },
   {
    "duration": 10,
    "start_time": "2021-10-16T23:20:53.740Z"
   },
   {
    "duration": 9,
    "start_time": "2021-10-16T23:21:18.538Z"
   },
   {
    "duration": 9,
    "start_time": "2021-10-16T23:21:28.321Z"
   },
   {
    "duration": 256,
    "start_time": "2021-10-16T23:22:22.889Z"
   },
   {
    "duration": 280,
    "start_time": "2021-10-16T23:23:22.394Z"
   },
   {
    "duration": 453,
    "start_time": "2021-10-16T23:24:55.010Z"
   },
   {
    "duration": 514,
    "start_time": "2021-10-16T23:25:10.016Z"
   },
   {
    "duration": 553,
    "start_time": "2021-10-16T23:26:39.578Z"
   },
   {
    "duration": 525,
    "start_time": "2021-10-16T23:26:51.562Z"
   },
   {
    "duration": 520,
    "start_time": "2021-10-16T23:27:17.506Z"
   },
   {
    "duration": 278,
    "start_time": "2021-10-16T23:29:04.340Z"
   },
   {
    "duration": 546,
    "start_time": "2021-10-16T23:29:16.665Z"
   },
   {
    "duration": 539,
    "start_time": "2021-10-16T23:29:35.785Z"
   },
   {
    "duration": 528,
    "start_time": "2021-10-16T23:33:04.890Z"
   },
   {
    "duration": 94,
    "start_time": "2021-10-16T23:46:54.487Z"
   },
   {
    "duration": 17,
    "start_time": "2021-10-16T23:47:04.219Z"
   },
   {
    "duration": 30,
    "start_time": "2021-10-16T23:47:13.986Z"
   },
   {
    "duration": 4838,
    "start_time": "2021-10-16T23:48:26.826Z"
   },
   {
    "duration": 4708,
    "start_time": "2021-10-16T23:49:23.980Z"
   },
   {
    "duration": 4908,
    "start_time": "2021-10-16T23:49:47.351Z"
   },
   {
    "duration": 4952,
    "start_time": "2021-10-16T23:50:05.314Z"
   },
   {
    "duration": 5076,
    "start_time": "2021-10-16T23:50:22.346Z"
   },
   {
    "duration": 4478,
    "start_time": "2021-10-17T00:00:01.960Z"
   },
   {
    "duration": 3996,
    "start_time": "2021-10-17T00:00:24.969Z"
   },
   {
    "duration": 4038,
    "start_time": "2021-10-17T00:00:35.319Z"
   },
   {
    "duration": 4310,
    "start_time": "2021-10-17T00:00:44.487Z"
   },
   {
    "duration": 8087,
    "start_time": "2021-10-17T00:31:06.779Z"
   },
   {
    "duration": 1099,
    "start_time": "2021-10-17T00:43:31.030Z"
   },
   {
    "duration": 1050,
    "start_time": "2021-10-17T00:43:38.525Z"
   },
   {
    "duration": 1613,
    "start_time": "2021-10-17T00:44:06.697Z"
   },
   {
    "duration": 1481,
    "start_time": "2021-10-17T00:46:23.714Z"
   },
   {
    "duration": 1123,
    "start_time": "2021-10-17T00:46:36.131Z"
   },
   {
    "duration": 1135,
    "start_time": "2021-10-17T00:46:49.513Z"
   },
   {
    "duration": 367,
    "start_time": "2021-10-17T01:26:01.102Z"
   },
   {
    "duration": 516,
    "start_time": "2021-10-17T01:26:37.169Z"
   },
   {
    "duration": 395,
    "start_time": "2021-10-17T01:26:52.049Z"
   },
   {
    "duration": 485,
    "start_time": "2021-10-17T01:28:30.200Z"
   },
   {
    "duration": 500,
    "start_time": "2021-10-17T01:28:57.864Z"
   },
   {
    "duration": 508,
    "start_time": "2021-10-17T01:29:25.934Z"
   },
   {
    "duration": 908,
    "start_time": "2021-10-17T01:31:04.545Z"
   },
   {
    "duration": 808,
    "start_time": "2021-10-17T01:31:42.418Z"
   },
   {
    "duration": 749,
    "start_time": "2021-10-17T01:32:43.726Z"
   },
   {
    "duration": 839,
    "start_time": "2021-10-17T01:32:48.944Z"
   },
   {
    "duration": 766,
    "start_time": "2021-10-17T01:32:59.616Z"
   },
   {
    "duration": 779,
    "start_time": "2021-10-17T01:33:09.939Z"
   },
   {
    "duration": 879,
    "start_time": "2021-10-17T01:33:42.252Z"
   },
   {
    "duration": 905,
    "start_time": "2021-10-17T01:34:19.431Z"
   },
   {
    "duration": 926,
    "start_time": "2021-10-17T01:36:27.709Z"
   },
   {
    "duration": 1119,
    "start_time": "2021-10-17T01:41:53.288Z"
   },
   {
    "duration": 1300,
    "start_time": "2021-10-17T01:42:01.339Z"
   },
   {
    "duration": 954,
    "start_time": "2021-10-17T01:44:53.295Z"
   },
   {
    "duration": 831,
    "start_time": "2021-10-17T23:44:44.842Z"
   },
   {
    "duration": 7,
    "start_time": "2021-10-17T23:44:45.676Z"
   },
   {
    "duration": 133,
    "start_time": "2021-10-17T23:44:45.686Z"
   },
   {
    "duration": 37,
    "start_time": "2021-10-17T23:44:45.822Z"
   },
   {
    "duration": 96,
    "start_time": "2021-10-17T23:44:45.862Z"
   },
   {
    "duration": 46,
    "start_time": "2021-10-17T23:44:45.961Z"
   },
   {
    "duration": 23,
    "start_time": "2021-10-17T23:44:46.009Z"
   },
   {
    "duration": 6,
    "start_time": "2021-10-17T23:44:46.035Z"
   },
   {
    "duration": 60,
    "start_time": "2021-10-17T23:44:46.045Z"
   },
   {
    "duration": 24,
    "start_time": "2021-10-17T23:44:46.107Z"
   },
   {
    "duration": 11,
    "start_time": "2021-10-17T23:44:46.133Z"
   },
   {
    "duration": 27,
    "start_time": "2021-10-17T23:44:46.146Z"
   },
   {
    "duration": 28,
    "start_time": "2021-10-17T23:44:46.175Z"
   },
   {
    "duration": 8,
    "start_time": "2021-10-17T23:44:46.206Z"
   },
   {
    "duration": 5,
    "start_time": "2021-10-17T23:44:46.217Z"
   },
   {
    "duration": 25,
    "start_time": "2021-10-17T23:44:46.225Z"
   },
   {
    "duration": 4,
    "start_time": "2021-10-17T23:44:46.252Z"
   },
   {
    "duration": 54,
    "start_time": "2021-10-17T23:44:46.259Z"
   },
   {
    "duration": 138,
    "start_time": "2021-10-17T23:44:46.315Z"
   },
   {
    "duration": 327,
    "start_time": "2021-10-17T23:44:46.456Z"
   },
   {
    "duration": 586,
    "start_time": "2021-10-17T23:44:46.785Z"
   },
   {
    "duration": 4644,
    "start_time": "2021-10-17T23:44:47.374Z"
   },
   {
    "duration": 1158,
    "start_time": "2021-10-17T23:44:52.023Z"
   },
   {
    "duration": 980,
    "start_time": "2021-10-17T23:44:53.184Z"
   },
   {
    "duration": 3,
    "start_time": "2021-10-17T23:44:54.167Z"
   },
   {
    "duration": 985,
    "start_time": "2021-10-17T23:51:32.182Z"
   },
   {
    "duration": 12,
    "start_time": "2021-10-17T23:58:09.342Z"
   },
   {
    "duration": 11,
    "start_time": "2021-10-17T23:58:17.090Z"
   },
   {
    "duration": 879,
    "start_time": "2021-10-18T00:10:24.632Z"
   },
   {
    "duration": 914,
    "start_time": "2021-10-18T00:10:38.412Z"
   },
   {
    "duration": 913,
    "start_time": "2021-10-18T00:11:39.302Z"
   },
   {
    "duration": 877,
    "start_time": "2021-10-18T00:13:58.327Z"
   },
   {
    "duration": 914,
    "start_time": "2021-10-18T00:14:09.156Z"
   },
   {
    "duration": 1077,
    "start_time": "2021-10-18T00:14:15.579Z"
   },
   {
    "duration": 934,
    "start_time": "2021-10-18T00:14:26.510Z"
   },
   {
    "duration": 992,
    "start_time": "2021-10-18T00:17:56.472Z"
   },
   {
    "duration": 981,
    "start_time": "2021-10-18T00:19:02.086Z"
   },
   {
    "duration": 1011,
    "start_time": "2021-10-18T00:19:51.369Z"
   },
   {
    "duration": 1019,
    "start_time": "2021-10-18T00:20:32.903Z"
   },
   {
    "duration": 1077,
    "start_time": "2021-10-18T00:20:59.415Z"
   },
   {
    "duration": 111,
    "start_time": "2021-10-18T00:32:53.744Z"
   },
   {
    "duration": 119,
    "start_time": "2021-10-18T00:33:21.437Z"
   },
   {
    "duration": 1361,
    "start_time": "2021-10-18T00:33:37.529Z"
   },
   {
    "duration": 26,
    "start_time": "2021-10-18T00:33:50.196Z"
   },
   {
    "duration": 25,
    "start_time": "2021-10-18T00:36:29.198Z"
   },
   {
    "duration": 811,
    "start_time": "2021-10-18T00:36:57.207Z"
   },
   {
    "duration": 325,
    "start_time": "2021-10-18T00:37:20.618Z"
   },
   {
    "duration": 34,
    "start_time": "2021-10-18T00:37:26.599Z"
   },
   {
    "duration": 34,
    "start_time": "2021-10-18T00:38:04.717Z"
   },
   {
    "duration": 162824,
    "start_time": "2021-10-18T00:46:26.042Z"
   },
   {
    "duration": 339,
    "start_time": "2021-10-18T00:50:33.465Z"
   },
   {
    "duration": 366,
    "start_time": "2021-10-18T00:55:22.078Z"
   },
   {
    "duration": 339,
    "start_time": "2021-10-18T00:59:36.010Z"
   },
   {
    "duration": 350,
    "start_time": "2021-10-18T00:59:42.666Z"
   },
   {
    "duration": 24,
    "start_time": "2021-10-18T01:00:51.541Z"
   },
   {
    "duration": 107039,
    "start_time": "2021-10-18T01:01:28.789Z"
   },
   {
    "duration": -1027,
    "start_time": "2021-10-18T01:25:15.832Z"
   },
   {
    "duration": 37216,
    "start_time": "2021-10-18T01:36:28.123Z"
   },
   {
    "duration": 23,
    "start_time": "2021-10-18T01:37:35.835Z"
   },
   {
    "duration": 31,
    "start_time": "2021-10-18T01:38:36.473Z"
   },
   {
    "duration": 27,
    "start_time": "2021-10-18T01:38:58.985Z"
   },
   {
    "duration": 25,
    "start_time": "2021-10-18T01:39:06.447Z"
   },
   {
    "duration": 26,
    "start_time": "2021-10-18T01:39:17.185Z"
   },
   {
    "duration": 25,
    "start_time": "2021-10-18T01:45:30.628Z"
   },
   {
    "duration": 355,
    "start_time": "2021-10-18T01:46:18.563Z"
   },
   {
    "duration": 25,
    "start_time": "2021-10-18T01:46:24.581Z"
   },
   {
    "duration": 23,
    "start_time": "2021-10-18T01:46:28.552Z"
   },
   {
    "duration": 46,
    "start_time": "2021-10-18T01:47:38.607Z"
   },
   {
    "duration": 25,
    "start_time": "2021-10-18T02:35:27.860Z"
   },
   {
    "duration": 23,
    "start_time": "2021-10-18T02:35:37.476Z"
   },
   {
    "duration": 24,
    "start_time": "2021-10-18T02:35:48.779Z"
   },
   {
    "duration": 24,
    "start_time": "2021-10-18T02:36:00.933Z"
   },
   {
    "duration": 22,
    "start_time": "2021-10-18T02:36:05.643Z"
   },
   {
    "duration": 12867,
    "start_time": "2021-10-18T02:36:47.500Z"
   },
   {
    "duration": 7327,
    "start_time": "2021-10-18T02:37:02.692Z"
   },
   {
    "duration": 3459,
    "start_time": "2021-10-18T02:37:31.844Z"
   },
   {
    "duration": 3413,
    "start_time": "2021-10-18T02:39:30.736Z"
   },
   {
    "duration": 576,
    "start_time": "2021-10-18T02:41:39.411Z"
   },
   {
    "duration": 584,
    "start_time": "2021-10-18T02:41:53.913Z"
   },
   {
    "duration": 3443,
    "start_time": "2021-10-18T02:42:57.157Z"
   },
   {
    "duration": 7259,
    "start_time": "2021-10-18T02:43:38.597Z"
   },
   {
    "duration": 105,
    "start_time": "2021-10-18T02:49:10.492Z"
   },
   {
    "duration": 353,
    "start_time": "2021-10-18T02:49:24.736Z"
   },
   {
    "duration": 38,
    "start_time": "2021-10-18T02:50:05.094Z"
   },
   {
    "duration": 29,
    "start_time": "2021-10-18T02:50:41.355Z"
   },
   {
    "duration": 7179,
    "start_time": "2021-10-18T02:54:23.860Z"
   },
   {
    "duration": 355,
    "start_time": "2021-10-18T02:56:00.849Z"
   },
   {
    "duration": 7303,
    "start_time": "2021-10-18T02:56:56.602Z"
   },
   {
    "duration": 6383,
    "start_time": "2021-10-18T02:57:22.358Z"
   },
   {
    "duration": 6789,
    "start_time": "2021-10-18T02:57:38.918Z"
   },
   {
    "duration": 6089,
    "start_time": "2021-10-18T02:58:02.372Z"
   },
   {
    "duration": 14070,
    "start_time": "2021-10-18T02:58:42.144Z"
   },
   {
    "duration": 12260,
    "start_time": "2021-10-18T02:59:26.724Z"
   },
   {
    "duration": 13444,
    "start_time": "2021-10-18T03:00:05.719Z"
   },
   {
    "duration": 14825,
    "start_time": "2021-10-18T03:00:32.582Z"
   },
   {
    "duration": 435,
    "start_time": "2021-10-18T03:09:09.251Z"
   },
   {
    "duration": 8,
    "start_time": "2021-10-18T03:28:56.212Z"
   },
   {
    "duration": 779,
    "start_time": "2021-10-18T03:29:00.340Z"
   },
   {
    "duration": 1124,
    "start_time": "2021-10-18T03:29:52.545Z"
   },
   {
    "duration": 757,
    "start_time": "2021-10-18T03:30:01.548Z"
   },
   {
    "duration": 930,
    "start_time": "2021-10-18T03:37:25.906Z"
   },
   {
    "duration": 4,
    "start_time": "2021-10-18T03:37:34.588Z"
   },
   {
    "duration": 18,
    "start_time": "2021-10-18T03:38:09.502Z"
   },
   {
    "duration": 19,
    "start_time": "2021-10-18T03:38:19.664Z"
   },
   {
    "duration": 17,
    "start_time": "2021-10-18T03:38:36.602Z"
   },
   {
    "duration": 11075,
    "start_time": "2021-10-18T03:38:57.455Z"
   },
   {
    "duration": 11460,
    "start_time": "2021-10-18T03:39:18.152Z"
   },
   {
    "duration": 11936,
    "start_time": "2021-10-18T03:39:35.781Z"
   },
   {
    "duration": 816,
    "start_time": "2021-10-18T03:39:54.284Z"
   },
   {
    "duration": 7,
    "start_time": "2021-10-18T03:42:53.269Z"
   },
   {
    "duration": 710,
    "start_time": "2021-10-18T03:42:55.245Z"
   },
   {
    "duration": 946,
    "start_time": "2021-10-18T03:43:26.116Z"
   },
   {
    "duration": 4,
    "start_time": "2021-10-18T03:43:31.516Z"
   },
   {
    "duration": 9622,
    "start_time": "2021-10-18T03:43:37.662Z"
   },
   {
    "duration": 9543,
    "start_time": "2021-10-18T03:43:56.895Z"
   },
   {
    "duration": 9551,
    "start_time": "2021-10-18T03:44:06.440Z"
   },
   {
    "duration": 424,
    "start_time": "2021-10-18T03:44:16.001Z"
   },
   {
    "duration": 412,
    "start_time": "2021-10-18T03:44:53.815Z"
   },
   {
    "duration": 17,
    "start_time": "2021-10-18T03:51:41.967Z"
   },
   {
    "duration": 15,
    "start_time": "2021-10-18T03:53:24.224Z"
   },
   {
    "duration": 23,
    "start_time": "2021-10-18T03:53:32.486Z"
   },
   {
    "duration": 339,
    "start_time": "2021-10-18T03:53:55.760Z"
   },
   {
    "duration": 24,
    "start_time": "2021-10-18T03:54:19.142Z"
   },
   {
    "duration": 23,
    "start_time": "2021-10-18T03:54:31.214Z"
   },
   {
    "duration": 23,
    "start_time": "2021-10-18T03:55:34.842Z"
   },
   {
    "duration": 11,
    "start_time": "2021-10-18T03:56:05.644Z"
   },
   {
    "duration": 11,
    "start_time": "2021-10-18T03:56:32.425Z"
   },
   {
    "duration": 24,
    "start_time": "2021-10-18T04:01:06.988Z"
   },
   {
    "duration": 10,
    "start_time": "2021-10-18T04:01:33.560Z"
   },
   {
    "duration": 10,
    "start_time": "2021-10-18T04:01:44.864Z"
   },
   {
    "duration": 22,
    "start_time": "2021-10-18T04:06:07.775Z"
   },
   {
    "duration": 11,
    "start_time": "2021-10-18T04:06:28.311Z"
   },
   {
    "duration": 11,
    "start_time": "2021-10-18T04:06:43.278Z"
   },
   {
    "duration": 23,
    "start_time": "2021-10-18T04:12:25.818Z"
   },
   {
    "duration": 11,
    "start_time": "2021-10-18T04:12:28.928Z"
   },
   {
    "duration": 10,
    "start_time": "2021-10-18T04:12:31.751Z"
   },
   {
    "duration": 391,
    "start_time": "2021-10-18T04:20:06.057Z"
   },
   {
    "duration": 11,
    "start_time": "2021-10-18T04:21:17.561Z"
   },
   {
    "duration": 448,
    "start_time": "2021-10-18T04:22:01.256Z"
   },
   {
    "duration": 7,
    "start_time": "2021-10-18T04:22:06.615Z"
   },
   {
    "duration": 10,
    "start_time": "2021-10-18T04:28:14.199Z"
   },
   {
    "duration": 9,
    "start_time": "2021-10-18T04:28:57.215Z"
   },
   {
    "duration": 560,
    "start_time": "2021-10-18T15:33:55.939Z"
   },
   {
    "duration": 5,
    "start_time": "2021-10-18T15:33:56.501Z"
   },
   {
    "duration": 23,
    "start_time": "2021-10-18T15:33:56.507Z"
   },
   {
    "duration": 23,
    "start_time": "2021-10-18T15:33:56.531Z"
   },
   {
    "duration": 65,
    "start_time": "2021-10-18T15:33:56.555Z"
   },
   {
    "duration": 20,
    "start_time": "2021-10-18T15:33:56.622Z"
   },
   {
    "duration": 15,
    "start_time": "2021-10-18T15:33:56.644Z"
   },
   {
    "duration": 5,
    "start_time": "2021-10-18T15:33:56.662Z"
   },
   {
    "duration": 16,
    "start_time": "2021-10-18T15:33:56.692Z"
   },
   {
    "duration": 13,
    "start_time": "2021-10-18T15:33:56.709Z"
   },
   {
    "duration": 3,
    "start_time": "2021-10-18T15:33:56.724Z"
   },
   {
    "duration": 16,
    "start_time": "2021-10-18T15:33:56.729Z"
   },
   {
    "duration": 5,
    "start_time": "2021-10-18T15:33:56.747Z"
   },
   {
    "duration": 40,
    "start_time": "2021-10-18T15:33:56.753Z"
   },
   {
    "duration": 6,
    "start_time": "2021-10-18T15:33:56.795Z"
   },
   {
    "duration": 15,
    "start_time": "2021-10-18T15:33:56.802Z"
   },
   {
    "duration": 2,
    "start_time": "2021-10-18T15:33:56.819Z"
   },
   {
    "duration": 13,
    "start_time": "2021-10-18T15:33:56.823Z"
   },
   {
    "duration": 114,
    "start_time": "2021-10-18T15:33:56.838Z"
   },
   {
    "duration": 201,
    "start_time": "2021-10-18T15:33:56.954Z"
   },
   {
    "duration": 350,
    "start_time": "2021-10-18T15:33:57.156Z"
   },
   {
    "duration": 2975,
    "start_time": "2021-10-18T15:33:57.507Z"
   },
   {
    "duration": 8,
    "start_time": "2021-10-18T15:34:00.485Z"
   },
   {
    "duration": 444,
    "start_time": "2021-10-18T15:34:00.495Z"
   },
   {
    "duration": 634,
    "start_time": "2021-10-18T15:34:00.941Z"
   },
   {
    "duration": 3,
    "start_time": "2021-10-18T15:34:01.576Z"
   },
   {
    "duration": 6407,
    "start_time": "2021-10-18T15:34:01.580Z"
   },
   {
    "duration": 14,
    "start_time": "2021-10-18T15:34:07.992Z"
   },
   {
    "duration": 5937,
    "start_time": "2021-10-18T15:34:08.007Z"
   },
   {
    "duration": 5758,
    "start_time": "2021-10-18T15:34:13.945Z"
   },
   {
    "duration": 272,
    "start_time": "2021-10-18T15:34:19.705Z"
   },
   {
    "duration": 21,
    "start_time": "2021-10-18T15:34:19.980Z"
   },
   {
    "duration": 18,
    "start_time": "2021-10-18T15:34:20.003Z"
   },
   {
    "duration": 13,
    "start_time": "2021-10-18T15:34:20.024Z"
   },
   {
    "duration": 10,
    "start_time": "2021-10-18T15:34:20.040Z"
   },
   {
    "duration": 52,
    "start_time": "2021-10-18T15:34:20.052Z"
   },
   {
    "duration": 9,
    "start_time": "2021-10-18T15:34:20.105Z"
   },
   {
    "duration": 9,
    "start_time": "2021-10-18T15:34:20.116Z"
   },
   {
    "duration": 28,
    "start_time": "2021-10-18T15:34:20.127Z"
   },
   {
    "duration": 8,
    "start_time": "2021-10-18T15:34:20.157Z"
   },
   {
    "duration": 31,
    "start_time": "2021-10-18T15:34:20.168Z"
   },
   {
    "duration": 9,
    "start_time": "2021-10-18T15:34:20.201Z"
   },
   {
    "duration": 6,
    "start_time": "2021-10-18T15:34:20.212Z"
   },
   {
    "duration": 10,
    "start_time": "2021-10-18T15:34:20.220Z"
   },
   {
    "duration": 6,
    "start_time": "2021-10-18T15:34:20.232Z"
   }
  ],
  "kernelspec": {
   "display_name": "Python 3",
   "language": "python",
   "name": "python3"
  },
  "language_info": {
   "codemirror_mode": {
    "name": "ipython",
    "version": 3
   },
   "file_extension": ".py",
   "mimetype": "text/x-python",
   "name": "python",
   "nbconvert_exporter": "python",
   "pygments_lexer": "ipython3",
   "version": "3.7.4"
  },
  "toc": {
   "base_numbering": 1,
   "nav_menu": {},
   "number_sections": true,
   "sideBar": true,
   "skip_h1_title": true,
   "title_cell": "Table of Contents",
   "title_sidebar": "Contents",
   "toc_cell": false,
   "toc_position": {},
   "toc_section_display": true,
   "toc_window_display": false
  }
 },
 "nbformat": 4,
 "nbformat_minor": 4
}
